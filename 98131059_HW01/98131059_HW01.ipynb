{
  "nbformat": 4,
  "nbformat_minor": 0,
  "metadata": {
    "colab": {
      "name": "98131059_HW01.ipynb",
      "provenance": [],
      "mount_file_id": "https://github.com/zahraDehghanian97/Neural_net_HW/blob/master/98131059_HW01/98131059_HW01.ipynb",
      "authorship_tag": "ABX9TyPzke5Hsc3r5xmZQBsHg+SA",
      "include_colab_link": true
    },
    "kernelspec": {
      "name": "python3",
      "display_name": "Python 3"
    },
    "language_info": {
      "name": "python"
    }
  },
  "cells": [
    {
      "cell_type": "markdown",
      "metadata": {
        "id": "view-in-github",
        "colab_type": "text"
      },
      "source": [
        "<a href=\"https://colab.research.google.com/github/zahraDehghanian97/Neural_net_HW/blob/master/98131059_HW01/98131059_HW01.ipynb\" target=\"_parent\"><img src=\"https://colab.research.google.com/assets/colab-badge.svg\" alt=\"Open In Colab\"/></a>"
      ]
    },
    {
      "cell_type": "markdown",
      "metadata": {
        "id": "8jwxj9PCyiCq"
      },
      "source": [
        "## **Prerequisit**"
      ]
    },
    {
      "cell_type": "code",
      "metadata": {
        "id": "B2lVT9U4ycdO"
      },
      "source": [
        "\n",
        "import numpy as np\n",
        "import matplotlib.pyplot as plt\n",
        "from csv import reader\n",
        "import random\n"
      ],
      "execution_count": 2,
      "outputs": []
    },
    {
      "cell_type": "markdown",
      "metadata": {
        "id": "8Pq-WuDXt_ZR"
      },
      "source": [
        "## **load dataset**"
      ]
    },
    {
      "cell_type": "markdown",
      "metadata": {
        "id": "zqT_Ua-v7xIs"
      },
      "source": [
        "mount google drive"
      ]
    },
    {
      "cell_type": "code",
      "metadata": {
        "colab": {
          "base_uri": "https://localhost:8080/"
        },
        "id": "IEZ4iyVJv9uq",
        "outputId": "28762334-3199-4f52-d96e-96e857c41b58"
      },
      "source": [
        "from google.colab import drive\n",
        "drive.mount('/content/drive')"
      ],
      "execution_count": 3,
      "outputs": [
        {
          "output_type": "stream",
          "text": [
            "Drive already mounted at /content/drive; to attempt to forcibly remount, call drive.mount(\"/content/drive\", force_remount=True).\n"
          ],
          "name": "stdout"
        }
      ]
    },
    {
      "cell_type": "markdown",
      "metadata": {
        "id": "t70ZuxRNC3CR"
      },
      "source": [
        "load, convert and split dataset"
      ]
    },
    {
      "cell_type": "code",
      "metadata": {
        "colab": {
          "base_uri": "https://localhost:8080/"
        },
        "id": "6S4njOpWySaL",
        "outputId": "964cda6a-b159-4ca9-bcb3-a42d9c6090a2"
      },
      "source": [
        "def load_csv(filename):\n",
        "    dataset = list()\n",
        "    with open(filename, 'r') as file:\n",
        "        csv_reader = reader(file)\n",
        "        for row in csv_reader:\n",
        "            if not row:\n",
        "                continue\n",
        "            dataset.append(row)\n",
        "    return dataset\n",
        "\n",
        "def str_column_to_float(dataset, column):\n",
        "    for row in dataset:\n",
        "        row[column] = float(row[column].strip())\n",
        "\n",
        "def str_column_to_int(dataset, column):\n",
        "    class_values = [row[column] for row in dataset]\n",
        "    unique = set(class_values)\n",
        "    lookup = dict()\n",
        "    for i, value in enumerate(unique):\n",
        "        lookup[value] = i\n",
        "    for row in dataset:\n",
        "        row[column] = lookup[row[column]]\n",
        "    return lookup\n",
        "\n",
        "filename = \"/content/drive/MyDrive/Colab Notebooks/HW01_dataset.csv\"\n",
        "dataset = load_csv(filename)\n",
        "for i in range(len(dataset[0]) - 1):\n",
        "    str_column_to_float(dataset, i)\n",
        "str_column_to_int(dataset, len(dataset[0]) - 1)\n",
        "np.random.shuffle(dataset)\n",
        "train, validate, test = np.split(dataset, [int(.7*len(dataset)), int(.8*len(dataset))])\n",
        "print(len(train),len(validate),len(test))\n"
      ],
      "execution_count": 3,
      "outputs": [
        {
          "output_type": "stream",
          "text": [
            "145 21 42\n"
          ],
          "name": "stdout"
        }
      ]
    },
    {
      "cell_type": "markdown",
      "metadata": {
        "id": "VRRhTAoKnF1i"
      },
      "source": [
        "## **Pearson correlation**"
      ]
    },
    {
      "cell_type": "code",
      "metadata": {
        "id": "nWI_0-L3qKlu"
      },
      "source": [
        "all_best_corelation = []\n",
        "def find_greater_than_3 (corr):\n",
        "  temp = []\n",
        "  for item in corr:\n",
        "    if item[1] > 0.3 or item[1]< -0.3 :\n",
        "      temp.append(item)\n",
        "  return temp"
      ],
      "execution_count": 15,
      "outputs": []
    },
    {
      "cell_type": "markdown",
      "metadata": {
        "id": "cMDduxmbC6ip"
      },
      "source": [
        "compute pearson correlation on train data"
      ]
    },
    {
      "cell_type": "code",
      "metadata": {
        "colab": {
          "base_uri": "https://localhost:8080/"
        },
        "id": "F0dUYTgeDLZV",
        "outputId": "6959aaf2-9ba5-4fcd-8614-32d115544320"
      },
      "source": [
        "correlations = []\n",
        "for i in range(len(train[0])-1):\n",
        "  corr = np.corrcoef(train[:,i],train[:,-1])\n",
        "  # print(\"correlation between \"+str(i)+\"th feature and tags = \"+str(corr[0,1]))\n",
        "  correlations.append([i,corr[0,1]])\n",
        "correlations = sorted(correlations, key=lambda t: t[1], reverse=True)\n",
        "print(correlations)\n",
        "all_best_corelation.append(find_greater_than_3(correlations))\n"
      ],
      "execution_count": 19,
      "outputs": [
        {
          "output_type": "stream",
          "text": [
            "[[10, 0.4422181515023248], [48, 0.3889130654820476], [11, 0.3856028900883182], [44, 0.36831913106336134], [8, 0.3529229235272831], [9, 0.352636963430212], [45, 0.3414481833814232], [47, 0.3339525960767587], [12, 0.3217677480474085], [46, 0.3159814218284191], [43, 0.29163104225790876], [20, 0.2870337894063291], [50, 0.2820173393083131], [3, 0.2742486296677549], [19, 0.2570232023327139], [0, 0.2496092916558658], [51, 0.24470823261367303], [1, 0.23363045490035225], [53, 0.23038936840531693], [21, 0.2270629423990592], [4, 0.22669559970194506], [57, 0.2230180390827884], [49, 0.2224870371056192], [7, 0.21688580048889972], [5, 0.1985571987387186], [55, 0.1950123300537619], [42, 0.18010881095735362], [2, 0.1612011225048579], [6, 0.1494837243988167], [22, 0.1493689251871386], [18, 0.14902321184688042], [58, 0.11491040785375801], [13, 0.10493821688322255], [52, 0.10399064741570228], [23, 0.10330689855396806], [54, 0.1013864689337585], [56, 0.08409133526712528], [38, 0.0672074545174766], [41, 0.05625227955051045], [27, 0.04476297126825402], [24, 0.028966745512148433], [28, 0.020592191988910998], [29, 0.0172335892712518], [14, -0.005503082378750165], [31, -0.010889843212879094], [15, -0.012980576823298541], [26, -0.013196604826809108], [25, -0.01468694831740462], [40, -0.015081817121423067], [17, -0.0152068807086752], [59, -0.028486014419412307], [32, -0.030427043621967062], [37, -0.034568881467894774], [16, -0.036083346568504766], [39, -0.03685865242764396], [33, -0.09148829622819553], [30, -0.09757503340784775], [34, -0.16564155553942214], [36, -0.17575803791499192], [35, -0.2093357805971199]]\n"
          ],
          "name": "stdout"
        }
      ]
    },
    {
      "cell_type": "markdown",
      "metadata": {
        "id": "nTnWlK7tN-ws"
      },
      "source": [
        "show histogram"
      ]
    },
    {
      "cell_type": "code",
      "metadata": {
        "colab": {
          "base_uri": "https://localhost:8080/",
          "height": 299
        },
        "id": "kh2gcpf1OAx8",
        "outputId": "a8cc07f5-f937-4d53-8444-587b148641fa"
      },
      "source": [
        "hist, bin_edges = np.histogram(np.array(correlations)[:,1])\n",
        "# print(hist)\n",
        "n, bins, patches = plt.hist(x=np.array(correlations)[:,1], bins=10, color='#0504aa',  alpha=0.7, rwidth=0.75)\n",
        "plt.title(\"training data\")"
      ],
      "execution_count": 17,
      "outputs": [
        {
          "output_type": "execute_result",
          "data": {
            "text/plain": [
              "Text(0.5, 1.0, 'training data')"
            ]
          },
          "metadata": {
            "tags": []
          },
          "execution_count": 17
        },
        {
          "output_type": "display_data",
          "data": {
            "image/png": "[encoded data removed]",
            "text/plain": [
              "<Figure size 432x288 with 1 Axes>"
            ]
          },
          "metadata": {
            "tags": [],
            "needs_background": "light"
          }
        }
      ]
    },
    {
      "cell_type": "markdown",
      "metadata": {
        "id": "eG_07H_Gm9iO"
      },
      "source": [
        "compute pearson correlation on test data"
      ]
    },
    {
      "cell_type": "code",
      "metadata": {
        "colab": {
          "base_uri": "https://localhost:8080/"
        },
        "id": "iBqiKc_Tm9ic",
        "outputId": "09bf3efc-6cde-4ec6-e555-1132e55240fc"
      },
      "source": [
        "correlations = []\n",
        "for i in range(len(test[0])-1):\n",
        "  corr = np.corrcoef(test[:,i],test[:,-1])\n",
        "  # print(\"correlation between \"+str(i)+\"th feature and tags = \"+str(corr[0,1]))\n",
        "  correlations.append([i,corr[0,1]])\n",
        "correlations = sorted(correlations, key=lambda t: t[1], reverse=True)\n",
        "print(correlations)\n",
        "all_best_corelation.append(find_greater_than_3(correlations))"
      ],
      "execution_count": 20,
      "outputs": [
        {
          "output_type": "stream",
          "text": [
            "[[10, 0.4203504111336311], [9, 0.3646592942582926], [11, 0.36200603402453524], [44, 0.35246021005414924], [51, 0.33733262622641075], [50, 0.3324193299208538], [41, 0.32983917052052536], [42, 0.31834787393011627], [4, 0.31303502313185855], [8, 0.31281883807727967], [46, 0.31249974024043814], [45, 0.3114587338787451], [47, 0.31134171046976455], [43, 0.27342116761919477], [3, 0.2438907552172228], [26, 0.2384447334633234], [12, 0.2371267601427353], [0, 0.20507894049199762], [7, 0.20427499599265012], [27, 0.20370364533399254], [48, 0.2003862687620601], [25, 0.18975682685402487], [2, 0.18666080964233303], [21, 0.18146660034386816], [22, 0.16581811070658653], [40, 0.15372462799124634], [38, 0.13346496386012854], [1, 0.12918223879741184], [28, 0.12659806647958852], [20, 0.12012340702156553], [24, 0.10941244342755792], [59, 0.10677238180070227], [19, 0.10584359892656617], [23, 0.10381714391991849], [37, 0.10099245837079338], [13, 0.0970496398402423], [29, 0.07792268464169357], [52, 0.07771196520722701], [49, 0.0724130474834765], [18, 0.06236015315319213], [39, 0.040769900496078065], [6, 0.03972201468692316], [58, 0.026364041353029638], [54, 0.02375004343314789], [17, 0.017329500206922296], [14, 0.0024757581043565605], [16, -0.010011431146525222], [53, -0.049896098652275504], [15, -0.07593767056957168], [5, -0.10746666932518016], [55, -0.1193078280645159], [31, -0.1196185591928641], [57, -0.14015585131075858], [30, -0.1551882737065603], [32, -0.16510849400109678], [36, -0.22799079832983557], [33, -0.3123884738036655], [56, -0.37174602017351227], [34, -0.3736333745382776], [35, -0.4047951702070215]]\n"
          ],
          "name": "stdout"
        }
      ]
    },
    {
      "cell_type": "markdown",
      "metadata": {
        "id": "59atmY3hm9id"
      },
      "source": [
        "show histogram"
      ]
    },
    {
      "cell_type": "code",
      "metadata": {
        "colab": {
          "base_uri": "https://localhost:8080/",
          "height": 299
        },
        "id": "PgtO2Rq9m9id",
        "outputId": "28b722ea-1a20-4333-94ff-60a4f801ad74"
      },
      "source": [
        "hist, bin_edges = np.histogram(np.array(correlations)[:,1])\n",
        "# print(hist)\n",
        "n, bins, patches = plt.hist(x=np.array(correlations)[:,1], bins=10, color='#0504aa',  alpha=0.7, rwidth=0.75)\n",
        "plt.title(\"test data\")"
      ],
      "execution_count": 21,
      "outputs": [
        {
          "output_type": "execute_result",
          "data": {
            "text/plain": [
              "Text(0.5, 1.0, 'test data')"
            ]
          },
          "metadata": {
            "tags": []
          },
          "execution_count": 21
        },
        {
          "output_type": "display_data",
          "data": {
            "image/png": "[encoded data removed]",
            "text/plain": [
              "<Figure size 432x288 with 1 Axes>"
            ]
          },
          "metadata": {
            "tags": [],
            "needs_background": "light"
          }
        }
      ]
    },
    {
      "cell_type": "markdown",
      "metadata": {
        "id": "LwZUPlFlnA-c"
      },
      "source": [
        "compute pearson correlation on validation data"
      ]
    },
    {
      "cell_type": "code",
      "metadata": {
        "colab": {
          "base_uri": "https://localhost:8080/"
        },
        "id": "nEY3ILEqnA-d",
        "outputId": "1017ad39-22f9-44bc-c1dd-d16bcea05dd5"
      },
      "source": [
        "correlations = []\n",
        "for i in range(len(validate[0])-1):\n",
        "  corr = np.corrcoef(validate[:,i],validate[:,-1])\n",
        "  # print(\"correlation between \"+str(i)+\"th feature and tags = \"+str(corr[0,1]))\n",
        "  correlations.append([i,corr[0,1]])\n",
        "correlations = sorted(correlations, key=lambda t: t[1], reverse=True)\n",
        "print(correlations)\n",
        "all_best_corelation.append(find_greater_than_3(correlations))"
      ],
      "execution_count": 22,
      "outputs": [
        {
          "output_type": "stream",
          "text": [
            "[[13, 0.5720697241006206], [14, 0.5655009664331279], [0, 0.5517600243220687], [52, 0.5359717004644835], [11, 0.5090695826709951], [1, 0.48862958384959926], [59, 0.45042574381512185], [51, 0.43912646528514065], [10, 0.43543527728625614], [12, 0.4284499804908325], [2, 0.42694908100746054], [42, 0.40600755172392], [50, 0.3958489980945185], [58, 0.39187156770347564], [48, 0.3912156363427215], [47, 0.3657148083393451], [57, 0.361339328509879], [15, 0.3562749654961697], [41, 0.35423801477478967], [53, 0.3116570655038581], [46, 0.27894024168954734], [9, 0.2716086786331185], [16, 0.24915534901531222], [19, 0.24024210937483456], [3, 0.22419193074211802], [17, 0.21717302630261826], [18, 0.21296287076015505], [20, 0.211080927371745], [54, 0.19014491172644377], [45, 0.17700059459718723], [5, 0.17121273651935628], [43, 0.1605143232912285], [8, 0.15655758548588447], [55, 0.14974188998497942], [44, 0.13865327322621016], [56, 0.134320605550188], [26, 0.13242730426104418], [49, 0.1252283035868492], [27, 0.1127330227427722], [21, 0.07116589730833386], [6, 0.05223354270872336], [40, 0.04102944276609945], [4, 0.03242812204976594], [7, -3.4265499941376246e-05], [28, -0.01136855961055881], [25, -0.043819989438772425], [22, -0.10087077307171124], [30, -0.11950877107660172], [38, -0.1449415606561571], [39, -0.15679745767165892], [29, -0.18484566835709365], [24, -0.19621986025874502], [23, -0.19766673966619597], [31, -0.21399743673200755], [37, -0.33496872440350034], [34, -0.34013738006196365], [33, -0.43506951155437185], [36, -0.43842304112219577], [35, -0.4566352626669725], [32, -0.4904079214120418]]\n"
          ],
          "name": "stdout"
        }
      ]
    },
    {
      "cell_type": "markdown",
      "metadata": {
        "id": "2AFy3zTUnA-f"
      },
      "source": [
        "show histogram"
      ]
    },
    {
      "cell_type": "code",
      "metadata": {
        "colab": {
          "base_uri": "https://localhost:8080/",
          "height": 299
        },
        "id": "u_8MAozAnA-g",
        "outputId": "f17ccf63-054d-4962-fd55-2b4ae4f16f75"
      },
      "source": [
        "hist, bin_edges = np.histogram(np.array(correlations)[:,1])\n",
        "# print(hist)\n",
        "n, bins, patches = plt.hist(x=np.array(correlations)[:,1], bins=10, color='#0504aa',  alpha=0.7, rwidth=0.75)\n",
        "plt.title(\"validation data\")"
      ],
      "execution_count": 23,
      "outputs": [
        {
          "output_type": "execute_result",
          "data": {
            "text/plain": [
              "Text(0.5, 1.0, 'validation data')"
            ]
          },
          "metadata": {
            "tags": []
          },
          "execution_count": 23
        },
        {
          "output_type": "display_data",
          "data": {
            "image/png": "[encoded data removed]",
            "text/plain": [
              "<Figure size 432x288 with 1 Axes>"
            ]
          },
          "metadata": {
            "tags": [],
            "needs_background": "light"
          }
        }
      ]
    },
    {
      "cell_type": "markdown",
      "metadata": {
        "id": "buhiR0ExrBw4"
      },
      "source": [
        "find best feature"
      ]
    },
    {
      "cell_type": "code",
      "metadata": {
        "colab": {
          "base_uri": "https://localhost:8080/"
        },
        "id": "c-FnjuR2rGHv",
        "outputId": "cb7123dd-edbd-40f0-e5f3-734b1887eb0d"
      },
      "source": [
        "t1 = np.array(all_best_corelation[0])\n",
        "t2 = np.array(all_best_corelation[1])\n",
        "t3 = np.array(all_best_corelation[2])\n",
        "for x in t1[:,0]:\n",
        "  if x in t2[:,0] and x in t3[:,0] :\n",
        "    print(x)\n",
        "    temp = []\n",
        "    temp.append(t1[np.where(t1[:,0]==x)[0][0]][1])\n",
        "    temp.append(t2[np.where(t2[:,0]==x)[0][0]][1])\n",
        "    temp.append(t3[np.where(t3[:,0]==x)[0][0]][1])\n",
        "    print(temp)\n"
      ],
      "execution_count": 24,
      "outputs": [
        {
          "output_type": "stream",
          "text": [
            "10.0\n",
            "[0.4422181515023248, 0.4422181515023248, 0.4422181515023248]\n",
            "48.0\n",
            "[0.3889130654820476, 0.3889130654820476, 0.3889130654820476]\n",
            "11.0\n",
            "[0.3856028900883182, 0.3856028900883182, 0.3856028900883182]\n",
            "44.0\n",
            "[0.36831913106336134, 0.36831913106336134, 0.36831913106336134]\n",
            "8.0\n",
            "[0.3529229235272831, 0.3529229235272831, 0.3529229235272831]\n",
            "9.0\n",
            "[0.352636963430212, 0.352636963430212, 0.352636963430212]\n",
            "45.0\n",
            "[0.3414481833814232, 0.3414481833814232, 0.3414481833814232]\n",
            "47.0\n",
            "[0.3339525960767587, 0.3339525960767587, 0.3339525960767587]\n",
            "12.0\n",
            "[0.3217677480474085, 0.3217677480474085, 0.3217677480474085]\n",
            "46.0\n",
            "[0.3159814218284191, 0.3159814218284191, 0.3159814218284191]\n"
          ],
          "name": "stdout"
        }
      ]
    },
    {
      "cell_type": "markdown",
      "metadata": {
        "id": "ZMJL4YmL7gME"
      },
      "source": [
        "## **Perceptron**"
      ]
    },
    {
      "cell_type": "code",
      "metadata": {
        "colab": {
          "base_uri": "https://localhost:8080/",
          "height": 527
        },
        "id": "x8kA2a0R7j7T",
        "outputId": "371b8ec3-9b6e-4365-ce42-ae2d2d9dfffe"
      },
      "source": [
        "def accuracy_metric(actual, predicted):\n",
        "    correct = 0\n",
        "    for i in range(len(actual)):\n",
        "        if actual[i] == predicted[i]:\n",
        "            correct += 1\n",
        "    return correct / float(len(actual)) * 100.0\n",
        "\n",
        "def predict(test, weights):\n",
        "    predictions = list()\n",
        "    for row in test:\n",
        "      activation = weights[0]\n",
        "      for i in range(len(row) - 1):\n",
        "          activation += weights[i + 1] * row[i]\n",
        "      temp = 0\n",
        "      if activation >= 0.0 : temp = 1\n",
        "      predictions.append(temp)\n",
        "    return predictions\n",
        "\n",
        "def train_weights(train, l_rate, max_epoch):\n",
        "    weights = [0.0 for i in range(len(train[0]))]\n",
        "    accuracy_train = list()\n",
        "    accuracy_validate = list()\n",
        "    last_accuracy_v =0\n",
        "    flag = True\n",
        "    flag2 = True\n",
        "    epoch = 0\n",
        "    while epoch < max_epoch  and flag:\n",
        "      p_train = list()\n",
        "      for row in train:\n",
        "          prediction = predict([row], weights)[0]\n",
        "          p_train.append(prediction)\n",
        "          error = row[-1] - prediction\n",
        "          weights[0] = weights[0] + l_rate * error\n",
        "          for i in range(len(row) - 1):\n",
        "              weights[i + 1] = weights[i + 1] + l_rate * error * row[i]\n",
        "      # early stopping condition\n",
        "      accuracy_train.append(accuracy_metric(train[:,-1],p_train))\n",
        "      new_accuracy_v = accuracy_metric(validate[:,-1], predict(validate,weights))\n",
        "      accuracy_validate.append(new_accuracy_v)\n",
        "      if  ( new_accuracy_v< last_accuracy_v) and flag2==True : \n",
        "        print(\">>>>>>>>>>early stopping condition :\")\n",
        "        print(\"training finish at epoch \"+str(epoch))\n",
        "        print(\"-----------------------------\")\n",
        "        print(\"weights : \"+str(weights))\n",
        "        print(\"-----------------------------\")\n",
        "        flag2 = False\n",
        "        # flag = False\n",
        "        # return weights\n",
        "      else : last_accuracy_v = new_accuracy_v\n",
        "      epoch +=1\n",
        "    print('>>>>>>>>>>>>>limit epoch condition :')\n",
        "    print(\"training finish at epoch \"+str(epoch))\n",
        "    print(\"-----------------------------\")\n",
        "    print(\"weights : \"+str(weights))\n",
        "    print(\"-----------------------------\")\n",
        "    return weights, accuracy_train,accuracy_validate\n",
        "\n",
        "def perceptron(train,validate, test, l_rate, max_epoch):\n",
        "    weights , accuracy_train,accuracy_validate = train_weights(train, l_rate, max_epoch)\n",
        "    predictions = predict(test, weights)\n",
        "    return predictions , accuracy_train,accuracy_validate\n",
        "\n",
        "\n",
        "l_rate = 0.01\n",
        "max_epoch = 300\n",
        "predicted, accuracy_train,accuracy_validate = perceptron(train,validate, test ,l_rate,max_epoch)\n",
        "actual = test[:,-1]\n",
        "accuracy = accuracy_metric(actual, predicted)\n",
        "print(\">>>>>>>>>>>>>>>\")\n",
        "print('Final Accuracy test data = ' + str(accuracy) )\n",
        "temp = [i for i in range(len(accuracy_train))]\n",
        "plt.plot(temp,accuracy_train,label=\"train data\")\n",
        "plt.plot(temp,accuracy_validate,label=\"validation data\")\n",
        "plt.legend()\n",
        "plt.title(\"accuracy\")\n"
      ],
      "execution_count": 5,
      "outputs": [
        {
          "output_type": "stream",
          "text": [
            ">>>>>>>>>>early stopping condition :\n",
            "training finish at epoch 1\n",
            "-----------------------------\n",
            "weights : [0.03, -0.005607999999999999, -0.0037179999999999978, -0.0010320000000000006, -0.005128000000000005, -0.011515000000000003, -0.010894000000000004, -0.002814999999999998, -0.011794000000000002, -0.032416, -0.03173700000000001, -0.038879, -0.032746000000000004, -0.011938999999999996, -0.0004310000000000069, -0.005741999999999995, -0.006308999999999999, 0.016166999999999997, 0.028438999999999985, 0.0010799999999999972, -0.027450000000000002, -0.028099, -0.018942999999999998, -0.011624000000000013, 0.004806000000000001, 0.011051000000000004, 0.011814999999999992, 0.022611, 0.010285000000000002, 0.01009499999999999, 0.009671999999999993, 0.03860699999999999, -0.002658000000000004, 0.008081999999999995, 0.005066999999999996, 0.023524, 0.04543599999999998, 0.031066999999999966, -0.008229000000000002, -0.007396999999999999, 0.022987, 0.006516999999999998, -0.003229, -0.017727000000000003, -0.022767999999999997, -0.04420000000000002, -0.03672399999999999, -0.012615000000000008, -0.008623999999999995, -0.006977999999999998, -0.0018839999999999998, -0.0018079999999999988, -0.0015509999999999996, -0.0003259999999999997, -0.0011450000000000004, -0.00019499999999999975, 0.0003460000000000001, 0.0012180000000000003, -0.0009089999999999995, -0.00017800000000000013, -0.00034599999999999995]\n",
            "-----------------------------\n",
            ">>>>>>>>>>>>>limit epoch condition :\n",
            "training finish at epoch 300\n",
            "-----------------------------\n",
            "weights : [0.4300000000000002, -0.27051100000000494, -0.13960700000000228, -0.2533760000000029, -0.1962919999999936, -0.23289299999998866, 0.04988099999999943, 0.6630790000000159, 0.23405200000000376, -0.288373000000011, 0.0957630000000004, -0.5854870000000101, -0.28950499999999346, 0.3547629999999906, 0.0659819999999994, -0.1262979999999985, -0.14902600000000152, 0.1369300000000029, 0.031389999999997226, -0.0043439999999991515, -0.11285499999999984, 0.09243300000000114, -0.07858899999999949, -0.1142390000000036, -0.13029699999999733, 0.13517399999999727, -0.11095199999999916, -0.015007999999999435, 0.14110699999999884, -0.24155899999999286, -0.08615599999999583, 0.4066239999999877, -0.19261200000001355, -0.08171299999999998, 0.12471699999999976, -0.1962420000000009, 0.2898250000000044, 0.2882160000000021, -0.2600259999999975, -0.2211559999999949, 0.3036739999999915, -0.12339399999999887, -0.1045129999999965, -0.11638900000000228, -0.013244000000003175, -0.312141999999989, -0.11627099999999319, -0.05771699999999923, -0.28734000000000226, -0.22918800000000114, 0.11574699999999975, -0.12368300000000193, -0.12543399999999444, -0.044629999999999476, -0.06114899999999857, -0.02434100000000015, 0.07480799999999792, 0.033161000000000315, -0.0420370000000003, -0.026774999999999695, -0.02909999999999966]\n",
            "-----------------------------\n",
            ">>>>>>>>>>>>>>>\n",
            "Final Accuracy test data = 80.95238095238095\n"
          ],
          "name": "stdout"
        },
        {
          "output_type": "execute_result",
          "data": {
            "text/plain": [
              "Text(0.5, 1.0, 'accuracy')"
            ]
          },
          "metadata": {
            "tags": []
          },
          "execution_count": 5
        },
        {
          "output_type": "display_data",
          "data": {
            "image/png": "[encoded data removed]",
            "text/plain": [
              "<Figure size 432x288 with 1 Axes>"
            ]
          },
          "metadata": {
            "tags": [],
            "needs_background": "light"
          }
        }
      ]
    },
    {
      "cell_type": "code",
      "metadata": {
        "id": "FYDMkVxf0lmL",
        "outputId": "aa10b560-c353-40bf-d0bb-07eb068a536e",
        "colab": {
          "base_uri": "https://localhost:8080/",
          "height": 615
        }
      },
      "source": [
        "def accuracy_metric(actual, predicted):\n",
        "    correct = 0\n",
        "    for i in range(len(actual)):\n",
        "        if actual[i] == predicted[i]:\n",
        "            correct += 1\n",
        "    return correct / float(len(actual)) * 100.0\n",
        "\n",
        "def predict(test, weights):\n",
        "    predictions = list()\n",
        "    for row in test:\n",
        "      activation = weights[0]\n",
        "      for i in range(len(row) - 1):\n",
        "          activation += weights[i + 1] * row[i]\n",
        "      temp = 0\n",
        "      if activation >= 0.0 : temp = 1\n",
        "      predictions.append(temp)\n",
        "    return predictions\n",
        "\n",
        "def train_weights(train, l_rate, max_epoch):\n",
        "    weights = [0.0 for i in range(len(train[0]))]\n",
        "    accuracy_train = [0]\n",
        "    accuracy_validate = [0]\n",
        "    flag = True\n",
        "    epoch = 0\n",
        "    convergence = 0\n",
        "    while flag:\n",
        "      p_train = list()\n",
        "      for row in train:\n",
        "          prediction = predict([row], weights)[0]\n",
        "          p_train.append(prediction)\n",
        "          error = row[-1] - prediction\n",
        "          weights[0] = weights[0] + l_rate * error\n",
        "          for i in range(len(row) - 1):\n",
        "              weights[i + 1] = weights[i + 1] + l_rate * error * row[i]\n",
        "      accuracy_train.append(accuracy_metric(train[:,-1],p_train))\n",
        "      accuracy_validate.append(accuracy_metric(validate[:,-1], predict(validate,weights)))\n",
        "      # convergence condition\n",
        "      if abs(accuracy_train[-1]-accuracy_train[-2])<3 : convergence+=1\n",
        "      if convergence>=50 : \n",
        "        flag= False\n",
        "        print(\">>>>>>>>>>Convegence condition :\")\n",
        "      # # early stopping condition\n",
        "      # if  ( accuracy_validate[-1]< accuracy_validate[-2])  : \n",
        "      #   print(\">>>>>>>>>>early stopping condition :\")\n",
        "      #   flag = False\n",
        "      # number of epoch condition\n",
        "      if epoch >= max_epoch :\n",
        "        print('>>>>>>>>>>>>>limit epoch condition :')\n",
        "        flag = False\n",
        "      else : epoch +=1\n",
        "\n",
        "    print(\"training finish at epoch \"+str(epoch))\n",
        "    # print(\"-----------------------------\")\n",
        "    # print(\"weights : \"+str(weights))\n",
        "    # print(\"-----------------------------\")\n",
        "    return weights, accuracy_train,accuracy_validate\n",
        "\n",
        "def perceptron(train,validate, test, l_rate, max_epoch):\n",
        "    weights , accuracy_train,accuracy_validate = train_weights(train, l_rate, max_epoch)\n",
        "    predictions = predict(test, weights)\n",
        "    return predictions , accuracy_train,accuracy_validate\n",
        "\n",
        "\n",
        "l_rate = 0.01\n",
        "max_epoch = 300\n",
        "predicted, accuracy_train,accuracy_validate = perceptron(train,validate, test ,l_rate,max_epoch)\n",
        "actual = test[:,-1]\n",
        "accuracy = accuracy_metric(actual, predicted)\n",
        "print(\"--------------------\")\n",
        "print('Final Accuracy test data = ' + str(accuracy) )\n",
        "temp = [i for i in range(len(accuracy_train))]\n",
        "error_train = list()\n",
        "error_validate = list()\n",
        "for i in accuracy_train:error_train.append(100-i)\n",
        "for i in accuracy_validate:error_validate.append(100-i)\n",
        "plt.plot(temp,accuracy_train,label=\"accuracy train data\")\n",
        "plt.plot(temp,accuracy_validate,label=\"accuracy validation data\")\n",
        "plt.legend()\n",
        "plt.title(\"accuracy\")\n",
        "plt.show()\n",
        "plt.plot(temp,error_train,label=\"error train data\")\n",
        "plt.plot(temp,error_validate,label=\"error validation data\")\n",
        "plt.legend()\n",
        "plt.title(\"Error\")\n",
        "plt.show()\n",
        "\n"
      ],
      "execution_count": 13,
      "outputs": [
        {
          "output_type": "stream",
          "text": [
            ">>>>>>>>>>Convegence condition :\n",
            "training finish at epoch 85\n",
            "--------------------\n",
            "Final Accuracy test data = 83.33333333333334\n"
          ],
          "name": "stdout"
        },
        {
          "output_type": "display_data",
          "data": {
            "image/png": "[encoded data removed]",
            "text/plain": [
              "<Figure size 432x288 with 1 Axes>"
            ]
          },
          "metadata": {
            "tags": [],
            "needs_background": "light"
          }
        },
        {
          "output_type": "display_data",
          "data": {
            "image/png": "[encoded data removed]",
            "text/plain": [
              "<Figure size 432x288 with 1 Axes>"
            ]
          },
          "metadata": {
            "tags": [],
            "needs_background": "light"
          }
        }
      ]
    }
  ]
}