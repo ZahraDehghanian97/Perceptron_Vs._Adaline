{
  "nbformat": 4,
  "nbformat_minor": 0,
  "metadata": {
    "colab": {
      "name": "98131059_HW01.ipynb",
      "provenance": [],
      "mount_file_id": "https://github.com/zahraDehghanian97/Neural_net_HW/blob/master/98131059_HW01/98131059_HW01.ipynb",
      "authorship_tag": "ABX9TyNL6NOmVFQ0xHbhLiVAwgus",
      "include_colab_link": true
    },
    "kernelspec": {
      "name": "python3",
      "display_name": "Python 3"
    },
    "language_info": {
      "name": "python"
    }
  },
  "cells": [
    {
      "cell_type": "markdown",
      "metadata": {
        "id": "view-in-github",
        "colab_type": "text"
      },
      "source": [
        "<a href=\"https://colab.research.google.com/github/zahraDehghanian97/Neural_net_HW/blob/master/98131059_HW01/98131059_HW01.ipynb\" target=\"_parent\"><img src=\"https://colab.research.google.com/assets/colab-badge.svg\" alt=\"Open In Colab\"/></a>"
      ]
    },
    {
      "cell_type": "markdown",
      "metadata": {
        "id": "Y7m-nfJitgXH"
      },
      "source": [
        "update **Tensorflow**"
      ]
    },
    {
      "cell_type": "markdown",
      "metadata": {
        "id": "8jwxj9PCyiCq"
      },
      "source": [
        "## Prerequisit"
      ]
    },
    {
      "cell_type": "code",
      "metadata": {
        "id": "B2lVT9U4ycdO"
      },
      "source": [
        "try:\n",
        "  %tensorflow_version 2.x\n",
        "except:\n",
        "  pass\n",
        "import pandas as pd\n",
        "import tensorflow as tf\n",
        "from sklearn.model_selection import train_test_split\n",
        "import numpy as np\n"
      ],
      "execution_count": 1,
      "outputs": []
    },
    {
      "cell_type": "markdown",
      "metadata": {
        "id": "8Pq-WuDXt_ZR"
      },
      "source": [
        "## load dataset"
      ]
    },
    {
      "cell_type": "code",
      "metadata": {
        "colab": {
          "base_uri": "https://localhost:8080/"
        },
        "id": "IEZ4iyVJv9uq",
        "outputId": "28762334-3199-4f52-d96e-96e857c41b58"
      },
      "source": [
        "from google.colab import drive\n",
        "drive.mount('/content/drive')"
      ],
      "execution_count": 3,
      "outputs": [
        {
          "output_type": "stream",
          "text": [
            "Drive already mounted at /content/drive; to attempt to forcibly remount, call drive.mount(\"/content/drive\", force_remount=True).\n"
          ],
          "name": "stdout"
        }
      ]
    },
    {
      "cell_type": "markdown",
      "metadata": {
        "id": "t70ZuxRNC3CR"
      },
      "source": [
        "load and split dataset"
      ]
    },
    {
      "cell_type": "code",
      "metadata": {
        "id": "6S4njOpWySaL"
      },
      "source": [
        "dataset = pd.read_csv(\"/content/drive/MyDrive/Colab Notebooks/HW01_dataset.csv\")\n",
        "dataset = np.array(dataset)\n",
        "X_all = dataset[:,:-1]\n",
        "y_all = dataset[:,-1]\n",
        "X_train, X_test, y_train, y_test = train_test_split(X_all,y_all, test_size=0.2, shuffle = True)\n",
        "X_train, X_validation, y_train, y_validation = train_test_split(X_train,y_train, test_size=0.1, shuffle = True)"
      ],
      "execution_count": 4,
      "outputs": []
    },
    {
      "cell_type": "markdown",
      "metadata": {
        "id": "cMDduxmbC6ip"
      },
      "source": [
        "compute pearson correlation on train data"
      ]
    },
    {
      "cell_type": "code",
      "metadata": {
        "colab": {
          "base_uri": "https://localhost:8080/"
        },
        "id": "F0dUYTgeDLZV",
        "outputId": "997f91be-3630-4ebe-b449-5ba3e2cc8242"
      },
      "source": [
        "Y_train = []\n",
        "for i in y_train :\n",
        "  if i == 'M' :\n",
        "    Y_train.append(1)\n",
        "  else :\n",
        "    Y_train.append(-1)\n",
        "Y_train = np.array(Y_train)\n",
        "correlations = []\n",
        "for i in range(len(X_all[0])):\n",
        "  corr = np.corrcoef(np.array(X_train[:,i]).astype(float),Y_train.astype(float))\n",
        "  # print(\"correlation between \"+str(i)+\"th feature and tags = \"+str(corr[0,1]))\n",
        "  correlations.append([i,corr[0,1]])\n",
        "correlations = sorted(correlations, key=lambda t: t[1], reverse=True)\n",
        "print(correlations)"
      ],
      "execution_count": 17,
      "outputs": [
        {
          "output_type": "stream",
          "text": [
            "[[10, 0.44579803005551183], [48, 0.4037841305499881], [11, 0.3606028576211914], [47, 0.3604586490153282], [44, 0.35806426616485587], [8, 0.3467192427974732], [9, 0.3190344698174838], [50, 0.3140037760688953], [46, 0.31273518183276594], [45, 0.31169923991023873], [12, 0.3104620713598132], [0, 0.3032598773344757], [3, 0.2938443583653382], [43, 0.2914893316642826], [51, 0.2849434349234881], [4, 0.28333785510199394], [1, 0.2757222073387324], [2, 0.23327991663421316], [42, 0.23162895603792452], [20, 0.22575747749280514], [7, 0.21947403793093162], [57, 0.21041272303469455], [19, 0.20058034980859651], [53, 0.18486417485506693], [21, 0.183990653707411], [49, 0.18134512982928516], [58, 0.15774107653911373], [5, 0.15701335408520475], [6, 0.15605483416500662], [41, 0.15548624294998575], [13, 0.14434702136352742], [22, 0.13304778841395554], [52, 0.10790636762970574], [23, 0.10380659445907366], [18, 0.10013468528720945], [54, 0.08988326099757231], [55, 0.08442188702712808], [56, 0.0727667769664017], [14, 0.05190791554744391], [24, 0.051125709171511845], [27, 0.022475004442398513], [25, 0.016824970265609657], [40, 0.010991174036247931], [59, 0.010092211739034861], [38, 0.007365875630542243], [15, -0.0016673082772619163], [26, -0.0037628280051774047], [28, -0.005020546962512536], [29, -0.026763886279702796], [16, -0.02856979603872104], [17, -0.033747513883815715], [31, -0.047911921581608605], [37, -0.058442838191173054], [39, -0.07895728798846322], [32, -0.10633859435236312], [30, -0.12263435671785818], [33, -0.17852790500987561], [36, -0.1994171725401698], [34, -0.21571403715032103], [35, -0.24959742486355752]]\n"
          ],
          "name": "stdout"
        }
      ]
    }
  ]
}