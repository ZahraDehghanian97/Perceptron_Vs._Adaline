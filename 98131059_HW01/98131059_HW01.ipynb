{
  "nbformat": 4,
  "nbformat_minor": 0,
  "metadata": {
    "colab": {
      "name": "98131059_HW01.ipynb",
      "provenance": [],
      "mount_file_id": "https://github.com/zahraDehghanian97/Neural_net_HW/blob/master/98131059_HW01/98131059_HW01.ipynb",
      "authorship_tag": "ABX9TyODfN8xKt0J0qwW91oLGUgc",
      "include_colab_link": true
    },
    "kernelspec": {
      "name": "python3",
      "display_name": "Python 3"
    },
    "language_info": {
      "name": "python"
    }
  },
  "cells": [
    {
      "cell_type": "markdown",
      "metadata": {
        "id": "view-in-github",
        "colab_type": "text"
      },
      "source": [
        "<a href=\"https://colab.research.google.com/github/zahraDehghanian97/Neural_net_HW/blob/master/98131059_HW01/98131059_HW01.ipynb\" target=\"_parent\"><img src=\"https://colab.research.google.com/assets/colab-badge.svg\" alt=\"Open In Colab\"/></a>"
      ]
    },
    {
      "cell_type": "markdown",
      "metadata": {
        "id": "Y7m-nfJitgXH"
      },
      "source": [
        "update **Tensorflow**"
      ]
    },
    {
      "cell_type": "markdown",
      "metadata": {
        "id": "8jwxj9PCyiCq"
      },
      "source": [
        "## Prerequisit"
      ]
    },
    {
      "cell_type": "code",
      "metadata": {
        "id": "B2lVT9U4ycdO"
      },
      "source": [
        "try:\n",
        "  %tensorflow_version 2.x\n",
        "except:\n",
        "  pass\n",
        "import pandas as pd\n",
        "import tensorflow as tf\n",
        "from sklearn.model_selection import train_test_split\n",
        "import numpy as np\n",
        "import matplotlib.pyplot as plt\n"
      ],
      "execution_count": 1,
      "outputs": []
    },
    {
      "cell_type": "markdown",
      "metadata": {
        "id": "8Pq-WuDXt_ZR"
      },
      "source": [
        "## load dataset"
      ]
    },
    {
      "cell_type": "code",
      "metadata": {
        "colab": {
          "base_uri": "https://localhost:8080/"
        },
        "id": "IEZ4iyVJv9uq",
        "outputId": "28762334-3199-4f52-d96e-96e857c41b58"
      },
      "source": [
        "from google.colab import drive\n",
        "drive.mount('/content/drive')"
      ],
      "execution_count": 3,
      "outputs": [
        {
          "output_type": "stream",
          "text": [
            "Drive already mounted at /content/drive; to attempt to forcibly remount, call drive.mount(\"/content/drive\", force_remount=True).\n"
          ],
          "name": "stdout"
        }
      ]
    },
    {
      "cell_type": "markdown",
      "metadata": {
        "id": "t70ZuxRNC3CR"
      },
      "source": [
        "load and split dataset"
      ]
    },
    {
      "cell_type": "code",
      "metadata": {
        "id": "6S4njOpWySaL"
      },
      "source": [
        "dataset = pd.read_csv(\"/content/drive/MyDrive/Colab Notebooks/HW01_dataset.csv\")\n",
        "dataset = np.array(dataset)\n",
        "X_all = dataset[:,:-1]\n",
        "y_all = dataset[:,-1]\n",
        "X_train, X_test, y_train, y_test = train_test_split(X_all,y_all, test_size=0.2, shuffle = True)\n",
        "X_train, X_validation, y_train, y_validation = train_test_split(X_train,y_train, test_size=0.1, shuffle = True)"
      ],
      "execution_count": 4,
      "outputs": []
    },
    {
      "cell_type": "markdown",
      "metadata": {
        "id": "VRRhTAoKnF1i"
      },
      "source": [
        "## Pearson correlation"
      ]
    },
    {
      "cell_type": "code",
      "metadata": {
        "id": "nWI_0-L3qKlu"
      },
      "source": [
        "all_best_corelation = []\n",
        "def find_greater_than_3 (corr):\n",
        "  temp = []\n",
        "  for item in corr:\n",
        "    if item[1] > 0.3 or item[1]< -0.3 :\n",
        "      temp.append(item)\n",
        "  return temp"
      ],
      "execution_count": 34,
      "outputs": []
    },
    {
      "cell_type": "markdown",
      "metadata": {
        "id": "cMDduxmbC6ip"
      },
      "source": [
        "compute pearson correlation on train data"
      ]
    },
    {
      "cell_type": "code",
      "metadata": {
        "colab": {
          "base_uri": "https://localhost:8080/"
        },
        "id": "F0dUYTgeDLZV",
        "outputId": "b9cfb8a4-3eb6-4afa-b2d8-466005ae1102"
      },
      "source": [
        "\n",
        "Y_train = []\n",
        "for i in y_train :\n",
        "  if i == 'M' :\n",
        "    Y_train.append(1)\n",
        "  else :\n",
        "    Y_train.append(-1)\n",
        "Y_train = np.array(Y_train)\n",
        "correlations = []\n",
        "for i in range(len(X_all[0])):\n",
        "  corr = np.corrcoef(np.array(X_train[:,i]).astype(float),Y_train.astype(float))\n",
        "  # print(\"correlation between \"+str(i)+\"th feature and tags = \"+str(corr[0,1]))\n",
        "  correlations.append([i,corr[0,1]])\n",
        "correlations = sorted(correlations, key=lambda t: t[1], reverse=True)\n",
        "print(correlations)\n",
        "all_best_corelation.append(find_greater_than_3(correlations))\n"
      ],
      "execution_count": 35,
      "outputs": [
        {
          "output_type": "stream",
          "text": [
            "[[10, 0.44579803005551183], [48, 0.4037841305499881], [11, 0.3606028576211914], [47, 0.3604586490153282], [44, 0.35806426616485587], [8, 0.3467192427974732], [9, 0.3190344698174838], [50, 0.3140037760688953], [46, 0.31273518183276594], [45, 0.31169923991023873], [12, 0.3104620713598132], [0, 0.3032598773344757], [3, 0.2938443583653382], [43, 0.2914893316642826], [51, 0.2849434349234881], [4, 0.28333785510199394], [1, 0.2757222073387324], [2, 0.23327991663421316], [42, 0.23162895603792452], [20, 0.22575747749280514], [7, 0.21947403793093162], [57, 0.21041272303469455], [19, 0.20058034980859651], [53, 0.18486417485506693], [21, 0.183990653707411], [49, 0.18134512982928516], [58, 0.15774107653911373], [5, 0.15701335408520475], [6, 0.15605483416500662], [41, 0.15548624294998575], [13, 0.14434702136352742], [22, 0.13304778841395554], [52, 0.10790636762970574], [23, 0.10380659445907366], [18, 0.10013468528720945], [54, 0.08988326099757231], [55, 0.08442188702712808], [56, 0.0727667769664017], [14, 0.05190791554744391], [24, 0.051125709171511845], [27, 0.022475004442398513], [25, 0.016824970265609657], [40, 0.010991174036247931], [59, 0.010092211739034861], [38, 0.007365875630542243], [15, -0.0016673082772619163], [26, -0.0037628280051774047], [28, -0.005020546962512536], [29, -0.026763886279702796], [16, -0.02856979603872104], [17, -0.033747513883815715], [31, -0.047911921581608605], [37, -0.058442838191173054], [39, -0.07895728798846322], [32, -0.10633859435236312], [30, -0.12263435671785818], [33, -0.17852790500987561], [36, -0.1994171725401698], [34, -0.21571403715032103], [35, -0.24959742486355752]]\n"
          ],
          "name": "stdout"
        }
      ]
    },
    {
      "cell_type": "markdown",
      "metadata": {
        "id": "nTnWlK7tN-ws"
      },
      "source": [
        "show histogram"
      ]
    },
    {
      "cell_type": "code",
      "metadata": {
        "colab": {
          "base_uri": "https://localhost:8080/",
          "height": 299
        },
        "id": "kh2gcpf1OAx8",
        "outputId": "e778fe46-a769-40be-e85a-eff2a2d26014"
      },
      "source": [
        "hist, bin_edges = np.histogram(np.array(correlations)[:,1])\n",
        "# print(hist)\n",
        "n, bins, patches = plt.hist(x=np.array(correlations)[:,1], bins=10, color='#0504aa',  alpha=0.7, rwidth=0.75)\n",
        "plt.title(\"training data\")"
      ],
      "execution_count": 28,
      "outputs": [
        {
          "output_type": "execute_result",
          "data": {
            "text/plain": [
              "Text(0.5, 1.0, 'training data')"
            ]
          },
          "metadata": {
            "tags": []
          },
          "execution_count": 28
        },
        {
          "output_type": "display_data",
          "data": {
            "image/png": "[encoded data removed]",
            "text/plain": [
              "<Figure size 432x288 with 1 Axes>"
            ]
          },
          "metadata": {
            "tags": [],
            "needs_background": "light"
          }
        }
      ]
    },
    {
      "cell_type": "markdown",
      "metadata": {
        "id": "eG_07H_Gm9iO"
      },
      "source": [
        "compute pearson correlation on test data"
      ]
    },
    {
      "cell_type": "code",
      "metadata": {
        "colab": {
          "base_uri": "https://localhost:8080/"
        },
        "id": "iBqiKc_Tm9ic",
        "outputId": "30877da0-5bad-41e7-df74-2d07c9f1d829"
      },
      "source": [
        "Y_test = []\n",
        "for i in y_test :\n",
        "  if i == 'M' :\n",
        "    Y_test.append(1)\n",
        "  else :\n",
        "    Y_test.append(-1)\n",
        "Y_test = np.array(Y_test)\n",
        "correlations = []\n",
        "for i in range(len(X_all[0])):\n",
        "  corr = np.corrcoef(np.array(X_test[:,i]).astype(float),Y_test.astype(float))\n",
        "  # print(\"correlation between \"+str(i)+\"th feature and tags = \"+str(corr[0,1]))\n",
        "  correlations.append([i,corr[0,1]])\n",
        "correlations = sorted(correlations, key=lambda t: t[1], reverse=True)\n",
        "print(correlations)\n",
        "all_best_corelation.append(find_greater_than_3(correlations))"
      ],
      "execution_count": 36,
      "outputs": [
        {
          "output_type": "stream",
          "text": [
            "[[11, 0.4669193238199976], [9, 0.42968826375759056], [10, 0.39198020534565037], [45, 0.36613544273652526], [47, 0.36429868466273124], [46, 0.36298571352039094], [27, 0.3540756236301361], [43, 0.3466946607476779], [55, 0.34177615177048365], [48, 0.3394939463122705], [26, 0.3284270957357473], [44, 0.32783117499253983], [12, 0.32676930415682426], [50, 0.3117876299505372], [51, 0.3076611645591754], [8, 0.30651357088814735], [57, 0.3051992612727229], [20, 0.25496274225697335], [49, 0.24626492403780464], [42, 0.2443108595754879], [19, 0.24209190910227746], [13, 0.23463620368558097], [52, 0.22573963647251535], [18, 0.22274976478622655], [21, 0.20548904575244198], [59, 0.20258576535393905], [53, 0.19954051383111018], [0, 0.18744916723919497], [28, 0.17532577817284983], [54, 0.17191289923757083], [22, 0.14985642695059032], [38, 0.1381060130402911], [7, 0.11827558079985968], [17, 0.11758966181158251], [1, 0.1146466681788908], [23, 0.1095847205287524], [14, 0.10556098200656056], [25, 0.08965823208919577], [41, 0.08240857415024935], [6, 0.07759362229200993], [16, 0.07154604950827258], [2, 0.06516096947532182], [15, 0.0626512833473667], [3, 0.05291335438302766], [58, 0.048524791463240576], [24, 0.04401530251727869], [29, 0.03756178725772143], [37, 0.011453601385921615], [4, -0.01623263680976137], [39, -0.018078383117634805], [40, -0.023741438573492646], [5, -0.03518681658318147], [56, -0.050318447062890015], [31, -0.1090965302508097], [36, -0.14074627306239987], [30, -0.14204038514396944], [32, -0.18572920142728377], [33, -0.24037358706930528], [35, -0.28550438307916554], [34, -0.2920453594892472]]\n"
          ],
          "name": "stdout"
        }
      ]
    },
    {
      "cell_type": "markdown",
      "metadata": {
        "id": "59atmY3hm9id"
      },
      "source": [
        "show histogram"
      ]
    },
    {
      "cell_type": "code",
      "metadata": {
        "colab": {
          "base_uri": "https://localhost:8080/",
          "height": 299
        },
        "id": "PgtO2Rq9m9id",
        "outputId": "e7fad1d6-bc3d-4343-bb45-83ab66650e02"
      },
      "source": [
        "hist, bin_edges = np.histogram(np.array(correlations)[:,1])\n",
        "# print(hist)\n",
        "n, bins, patches = plt.hist(x=np.array(correlations)[:,1], bins=10, color='#0504aa',  alpha=0.7, rwidth=0.75)\n",
        "plt.title(\"test data\")"
      ],
      "execution_count": 30,
      "outputs": [
        {
          "output_type": "execute_result",
          "data": {
            "text/plain": [
              "Text(0.5, 1.0, 'test data')"
            ]
          },
          "metadata": {
            "tags": []
          },
          "execution_count": 30
        },
        {
          "output_type": "display_data",
          "data": {
            "image/png": "[encoded data removed]",
            "text/plain": [
              "<Figure size 432x288 with 1 Axes>"
            ]
          },
          "metadata": {
            "tags": [],
            "needs_background": "light"
          }
        }
      ]
    },
    {
      "cell_type": "markdown",
      "metadata": {
        "id": "LwZUPlFlnA-c"
      },
      "source": [
        "compute pearson correlation on validation data"
      ]
    },
    {
      "cell_type": "code",
      "metadata": {
        "colab": {
          "base_uri": "https://localhost:8080/"
        },
        "id": "nEY3ILEqnA-d",
        "outputId": "5dc2ac1c-1761-4f53-9b6e-da8f4a5b9883"
      },
      "source": [
        "Y_validation = []\n",
        "for i in y_validation :\n",
        "  if i == 'M' :\n",
        "    Y_validation.append(1)\n",
        "  else :\n",
        "    Y_validation.append(-1)\n",
        "Y_validation = np.array(Y_validation)\n",
        "correlations = []\n",
        "for i in range(len(X_all[0])):\n",
        "  corr = np.corrcoef(np.array(X_validation[:,i]).astype(float),Y_validation.astype(float))\n",
        "  # print(\"correlation between \"+str(i)+\"th feature and tags = \"+str(corr[0,1]))\n",
        "  correlations.append([i,corr[0,1]])\n",
        "correlations = sorted(correlations, key=lambda t: t[1], reverse=True)\n",
        "print(correlations)\n",
        "all_best_corelation.append(find_greater_than_3(correlations))"
      ],
      "execution_count": 37,
      "outputs": [
        {
          "output_type": "stream",
          "text": [
            "[[19, 0.48177015410333535], [20, 0.4366525786431297], [18, 0.43410570692518863], [21, 0.42683376405478535], [4, 0.3394218561733216], [11, 0.33576242905157583], [5, 0.3344853944878072], [10, 0.3011569381224858], [17, 0.24679966036399753], [9, 0.237728107848665], [3, 0.21759535686693376], [12, 0.21550961804019145], [59, 0.20938535503559513], [8, 0.17906377664716422], [51, 0.1771391814549224], [52, 0.16727764262360176], [22, 0.154849168462611], [55, 0.13750538447954538], [38, 0.13440490409379394], [39, 0.13271004478284917], [26, 0.1311133691084666], [2, 0.12847378108935253], [7, 0.09987980254898204], [1, 0.09434279357792918], [41, 0.08743655623148584], [50, 0.08632640519067326], [25, 0.08062594565149961], [16, 0.059714526378165406], [53, 0.04445184892787844], [13, 0.03542933399041173], [42, 0.03027991042639969], [15, -0.004895697735314244], [14, -0.007314996086958155], [58, -0.00957527672191124], [40, -0.012488208156258803], [0, -0.0166468125653687], [27, -0.039306043538542716], [28, -0.039874182227218245], [6, -0.04135708243513502], [29, -0.09361104782484732], [32, -0.10320401159513154], [24, -0.12755247845518647], [33, -0.12918655872143714], [47, -0.12953934079907622], [44, -0.1348090296589253], [23, -0.14992972089214976], [49, -0.1896764432902142], [45, -0.19046612270676327], [37, -0.19859433251414912], [48, -0.19877830416770825], [46, -0.21563026534853458], [31, -0.2861093157734402], [57, -0.2900704934177018], [34, -0.29560800275714527], [56, -0.3417320342582473], [54, -0.3468607446993323], [43, -0.36597756766757406], [30, -0.3943537887162523], [35, -0.4134713132360074], [36, -0.4693610723217214]]\n"
          ],
          "name": "stdout"
        }
      ]
    },
    {
      "cell_type": "markdown",
      "metadata": {
        "id": "2AFy3zTUnA-f"
      },
      "source": [
        "show histogram"
      ]
    },
    {
      "cell_type": "code",
      "metadata": {
        "colab": {
          "base_uri": "https://localhost:8080/",
          "height": 299
        },
        "id": "u_8MAozAnA-g",
        "outputId": "8d431e60-61aa-4e20-f533-10b81cb515a9"
      },
      "source": [
        "hist, bin_edges = np.histogram(np.array(correlations)[:,1])\n",
        "# print(hist)\n",
        "n, bins, patches = plt.hist(x=np.array(correlations)[:,1], bins=10, color='#0504aa',  alpha=0.7, rwidth=0.75)\n",
        "plt.title(\"validation data\")"
      ],
      "execution_count": 33,
      "outputs": [
        {
          "output_type": "execute_result",
          "data": {
            "text/plain": [
              "Text(0.5, 1.0, 'validation data')"
            ]
          },
          "metadata": {
            "tags": []
          },
          "execution_count": 33
        },
        {
          "output_type": "display_data",
          "data": {
            "image/png": "[encoded data removed]",
            "text/plain": [
              "<Figure size 432x288 with 1 Axes>"
            ]
          },
          "metadata": {
            "tags": [],
            "needs_background": "light"
          }
        }
      ]
    },
    {
      "cell_type": "markdown",
      "metadata": {
        "id": "buhiR0ExrBw4"
      },
      "source": [
        "find best feature"
      ]
    },
    {
      "cell_type": "code",
      "metadata": {
        "id": "c-FnjuR2rGHv",
        "outputId": "de4c30ac-6e96-416b-b72a-b4fb3b2865e8",
        "colab": {
          "base_uri": "https://localhost:8080/"
        }
      },
      "source": [
        "t1 = np.array(all_best_corelation[0])\n",
        "t2 = np.array(all_best_corelation[1])\n",
        "t3 = np.array(all_best_corelation[2])\n",
        "for x in t1[:,0]:\n",
        "  if x in t2[:,0] and x in t3[:,0] :\n",
        "    print(x)\n",
        "    temp = []\n",
        "    temp.append(t1[np.where(t1[:,0]==x)[0][0]][1])\n",
        "    temp.append(t2[np.where(t2[:,0]==x)[0][0]][1])\n",
        "    temp.append(t3[np.where(t3[:,0]==x)[0][0]][1])\n",
        "    print(temp)\n"
      ],
      "execution_count": 44,
      "outputs": [
        {
          "output_type": "stream",
          "text": [
            "10.0\n",
            "[0.44579803005551183, 0.39198020534565037, 0.3011569381224858]\n",
            "11.0\n",
            "[0.3606028576211914, 0.4669193238199976, 0.33576242905157583]\n"
          ],
          "name": "stdout"
        }
      ]
    }
  ]
}