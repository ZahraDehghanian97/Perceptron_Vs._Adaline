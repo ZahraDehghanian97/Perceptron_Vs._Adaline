{
  "nbformat": 4,
  "nbformat_minor": 0,
  "metadata": {
    "colab": {
      "name": "Untitled2.ipynb",
      "provenance": [],
      "collapsed_sections": [
        "tdxje57xKwne",
        "dHelFgo-MLQB",
        "Ert32JtVJwQN",
        "Uj9RRAOALhyb"
      ],
      "toc_visible": true
    },
    "kernelspec": {
      "name": "python3",
      "display_name": "Python 3"
    },
    "accelerator": "GPU"
  },
  "cells": [
    {
      "cell_type": "markdown",
      "metadata": {
        "id": "vZCVRrrbLJWy"
      },
      "source": [
        "# install tensorflow 2"
      ]
    },
    {
      "cell_type": "code",
      "metadata": {
        "id": "8iDtV8qbLdRt"
      },
      "source": [
        "!pip install --upgrade tensorflow"
      ],
      "execution_count": null,
      "outputs": []
    },
    {
      "cell_type": "code",
      "metadata": {
        "id": "oZwD19wHLhzf"
      },
      "source": [
        "import tensorflow as tf\n",
        "print(tf.__version__)"
      ],
      "execution_count": null,
      "outputs": []
    },
    {
      "cell_type": "markdown",
      "metadata": {
        "id": "tdxje57xKwne"
      },
      "source": [
        "## Importing libraries"
      ]
    },
    {
      "cell_type": "code",
      "metadata": {
        "id": "N27-JoihZ7oD"
      },
      "source": [
        "import pandas as pd\n",
        "import matplotlib.pyplot as plt\n",
        "import numpy as np\n",
        "from tensorflow import keras \n",
        "from tensorflow.keras import layers\n",
        "from sklearn import preprocessing\n",
        "from sklearn.model_selection import train_test_split\n",
        "from sklearn.metrics import confusion_matrix\n",
        "from sklearn.metrics import mean_squared_error \n"
      ],
      "execution_count": 17,
      "outputs": []
    },
    {
      "cell_type": "markdown",
      "metadata": {
        "id": "dHelFgo-MLQB"
      },
      "source": [
        "## Part 1"
      ]
    },
    {
      "cell_type": "markdown",
      "metadata": {
        "id": "u4YaRsfiMFoa"
      },
      "source": [
        "                  1-1 Loading data set_1.csv And check if it's linearly separable or not...\n",
        "\n",
        "\n",
        "\n"
      ]
    },
    {
      "cell_type": "code",
      "metadata": {
        "id": "qV8QrHOzMl2z"
      },
      "source": [
        "set_1 = pd.read_csv(\"set_1.csv\")\n",
        "set_1 = np.array(set_1)\n",
        "plt.scatter(set_1[:, 0], set_1[:, 1], c=set_1[:, 2], s=50, cmap='plasma')\n"
      ],
      "execution_count": null,
      "outputs": []
    },
    {
      "cell_type": "markdown",
      "metadata": {
        "id": "cMXeb7hDlcax"
      },
      "source": [
        "                            1-2- Preprocessing data (scale data matrix to the [0, 1] range)"
      ]
    },
    {
      "cell_type": "code",
      "metadata": {
        "id": "Q-HQy8OPnsgH"
      },
      "source": [
        "min_max_scaler = preprocessing.MinMaxScaler()\n",
        "Processed_set_1 = min_max_scaler.fit_transform(set_1[:,0:2])\n",
        "plt.scatter(Processed_set_1[:, 0], Processed_set_1[:, 1], c=set_1[:, 2], s=50, cmap='plasma')"
      ],
      "execution_count": null,
      "outputs": []
    },
    {
      "cell_type": "markdown",
      "metadata": {
        "id": "Gvdgft5dvsrf"
      },
      "source": [
        "                      1-3- Split Processed_set_1 to Test_data and Train_data and for that we randomly choose 10% of data as Test_data"
      ]
    },
    {
      "cell_type": "code",
      "metadata": {
        "id": "jDE9yp3TwGgy"
      },
      "source": [
        "X_train, X_test, y_train, y_test = train_test_split(\n",
        "...     Processed_set_1, set_1[:, 2], test_size=0.1, random_state=42)"
      ],
      "execution_count": null,
      "outputs": []
    },
    {
      "cell_type": "markdown",
      "metadata": {
        "id": "-6-YZp5ojKhy"
      },
      "source": [
        "                        2- classification of data by MLP (Loss function: Cross entropy) "
      ]
    },
    {
      "cell_type": "code",
      "metadata": {
        "id": "toQZIS4ojvuj"
      },
      "source": [
        "# create model\n",
        "model = keras.models.Sequential()\n",
        "model.add(keras.Input(shape=(2,)))\n",
        "model.add(keras.layers.Dense(8, activation='relu'))\n",
        "model.add(keras.layers.Dense(1, activation='sigmoid'))\n",
        "# Compile model\n",
        "model.compile(loss='binary_crossentropy', optimizer='adam', metrics=['accuracy'])\n",
        "model.summary()"
      ],
      "execution_count": null,
      "outputs": []
    },
    {
      "cell_type": "code",
      "metadata": {
        "id": "23HY8EkM5sSe"
      },
      "source": [
        "# Training model\n",
        "history = model.fit(X_train, y_train, batch_size=5, epochs= 100, validation_split= 0.18)"
      ],
      "execution_count": null,
      "outputs": []
    },
    {
      "cell_type": "code",
      "metadata": {
        "id": "QmPy6N8XAAY5"
      },
      "source": [
        "# plot model accuracy and loss \n",
        "  # accuracy\n",
        "plt.plot(history.history['accuracy'])\n",
        "plt.plot(history.history['val_accuracy'])\n",
        "plt.title('model accuracy (Number of neurons = 8)')\n",
        "plt.ylabel('accuracy')\n",
        "plt.xlabel('epoch')\n",
        "plt.legend(['train', 'test'], loc='upper left')\n",
        "plt.show()\n",
        "  # loss\n",
        "plt.plot(history.history['loss'])\n",
        "plt.plot(history.history['val_loss'])\n",
        "plt.title('model loss (Number of neurons = 8)')\n",
        "plt.ylabel('loss')\n",
        "plt.xlabel('epoch')\n",
        "plt.legend(['train', 'val'], loc='upper left')\n",
        "plt.show()"
      ],
      "execution_count": null,
      "outputs": []
    },
    {
      "cell_type": "code",
      "metadata": {
        "id": "ITReVZh8Qofu"
      },
      "source": [
        "# evaluating\n",
        "test_loss, test_acc = model.evaluate( X_test, y_test, verbose = 1)"
      ],
      "execution_count": null,
      "outputs": []
    },
    {
      "cell_type": "code",
      "metadata": {
        "id": "73X6jgbG6fXq"
      },
      "source": [
        "# Predicting labels\n",
        "predicted_values = model.predict(X_test)\n",
        "predicted_classes = np.where(predicted_values > 0.5, 1, 0)\n",
        "# visualize confusion matrix \n",
        "tn, fp, fn, tp = confusion_matrix(y_test, predicted_classes[:,0]).ravel()\n",
        "print('tn = ',tn , '\\t','fp = ',fp , '\\t','fn = ',fn , '\\t','tp = ',tp )\n"
      ],
      "execution_count": null,
      "outputs": []
    },
    {
      "cell_type": "markdown",
      "metadata": {
        "id": "Ert32JtVJwQN"
      },
      "source": [
        "## Part 2 (section 1 and 2)"
      ]
    },
    {
      "cell_type": "markdown",
      "metadata": {
        "id": "ngKlsjRaJ9tG"
      },
      "source": [
        "                2-1 Loading data set_2.csv And check if it's linearly separable or not..."
      ]
    },
    {
      "cell_type": "code",
      "metadata": {
        "id": "do6CdoHiJ4g-"
      },
      "source": [
        "set_2 = pd.read_csv(\"set_2.csv\")\n",
        "set_2 = np.array(set_2)\n",
        "plt.scatter(set_2[:, 0], set_2[:, 1], c=set_2[:, 2], s=50, cmap='plasma')"
      ],
      "execution_count": null,
      "outputs": []
    },
    {
      "cell_type": "markdown",
      "metadata": {
        "id": "d_mSYKHU4c8M"
      },
      "source": [
        "                      2-2- Preprocessing data (scale data matrix to the [0, 1] range)"
      ]
    },
    {
      "cell_type": "code",
      "metadata": {
        "id": "LXNzQxdR4jF3"
      },
      "source": [
        "min_max_scaler = preprocessing.MinMaxScaler()\n",
        "Processed_set_2 = min_max_scaler.fit_transform(set_2[:,0:2])\n",
        "plt.scatter(Processed_set_2[:, 0], Processed_set_2[:, 1], c=set_2[:, 2], s=50, cmap='plasma')"
      ],
      "execution_count": null,
      "outputs": []
    },
    {
      "cell_type": "markdown",
      "metadata": {
        "id": "p4xb6n_m6KSy"
      },
      "source": [
        "              2-3- Split Processed_set_2 to Test_data and Train_data and for that we randomly choose 10% of data as Test_data"
      ]
    },
    {
      "cell_type": "code",
      "metadata": {
        "id": "J91xugZO6G45"
      },
      "source": [
        "X_train, X_test, y_train, y_test = train_test_split(\n",
        "...     Processed_set_2, set_2[:, 2], test_size=0.1, random_state=42)"
      ],
      "execution_count": null,
      "outputs": []
    },
    {
      "cell_type": "markdown",
      "metadata": {
        "id": "dAKvH4vM6aXq"
      },
      "source": [
        "           2- classification of data by MLP (Loss function: Cross entropy) "
      ]
    },
    {
      "cell_type": "code",
      "metadata": {
        "id": "p41nZ77x6i02"
      },
      "source": [
        "# create model\n",
        "model = keras.models.Sequential()\n",
        "model.add(keras.Input(shape=(2,)))\n",
        "model.add(keras.layers.Dense(14, activation='relu'))\n",
        "model.add(keras.layers.Dense(1, activation='sigmoid'))\n",
        "# Compile model\n",
        "model.compile(loss='binary_crossentropy', optimizer='Adam', metrics=['accuracy'])\n",
        "model.summary()"
      ],
      "execution_count": null,
      "outputs": []
    },
    {
      "cell_type": "code",
      "metadata": {
        "id": "mtKpw0l66qn4"
      },
      "source": [
        "# Training model\n",
        "history = model.fit(X_train, y_train, batch_size=10, epochs= 100, validation_split= 0.18)"
      ],
      "execution_count": null,
      "outputs": []
    },
    {
      "cell_type": "code",
      "metadata": {
        "id": "6wlddfiO67My"
      },
      "source": [
        "# plot model accuracy and loss \n",
        "  # accuracy\n",
        "plt.plot(history.history['accuracy'])\n",
        "plt.plot(history.history['val_accuracy'])\n",
        "plt.title('model accuracy (Number of neurons = 14)')\n",
        "plt.ylabel('accuracy')\n",
        "plt.xlabel('epoch')\n",
        "plt.legend(['train', 'val'], loc='upper left')\n",
        "plt.show()\n",
        "  # loss\n",
        "plt.plot(history.history['loss'])\n",
        "plt.plot(history.history['val_loss'])\n",
        "plt.title('model loss (Number of neurons = 14)')\n",
        "plt.ylabel('loss')\n",
        "plt.xlabel('epoch')\n",
        "plt.legend(['train', 'val'], loc='upper left')\n",
        "plt.show()"
      ],
      "execution_count": null,
      "outputs": []
    },
    {
      "cell_type": "code",
      "metadata": {
        "id": "ny8HX-sj6_Yj"
      },
      "source": [
        "# evaluating\n",
        "test_loss, test_acc = model.evaluate( X_test, y_test, verbose = 1)"
      ],
      "execution_count": null,
      "outputs": []
    },
    {
      "cell_type": "code",
      "metadata": {
        "id": "gkUs8PvO7Ch2"
      },
      "source": [
        "# Predicting labels\n",
        "predicted_values = model.predict(X_test)\n",
        "predicted_classes = np.where(predicted_values > 0.5, 1, 0)\n",
        "# visualize confusion matrix \n",
        "tn, fp, fn, tp = confusion_matrix(y_test, predicted_classes[:,0]).ravel()\n",
        "print('tn = ',tn , '\\t','fp = ',fp , '\\t','fn = ',fn , '\\t','tp = ',tp )"
      ],
      "execution_count": null,
      "outputs": []
    },
    {
      "cell_type": "markdown",
      "metadata": {
        "id": "Uj9RRAOALhyb"
      },
      "source": [
        "## Part2 (section 3)"
      ]
    },
    {
      "cell_type": "markdown",
      "metadata": {
        "id": "wsN31UA_YiOW"
      },
      "source": [
        "        Loading data set_3.csv And check if it's linearly separable or not..."
      ]
    },
    {
      "cell_type": "code",
      "metadata": {
        "id": "16aVKzxwYeUj"
      },
      "source": [
        "set_3 = pd.read_csv(\"set_3.csv\")\n",
        "set_3 = np.array(set_3)\n",
        "plt.scatter(set_3[:, 0], set_3[:, 1], c=set_3[:, 2], s=50, cmap='plasma')"
      ],
      "execution_count": null,
      "outputs": []
    },
    {
      "cell_type": "markdown",
      "metadata": {
        "id": "GATx1SWOYtyd"
      },
      "source": [
        "              Preprocessing data (scale data matrix to the [0, 1] range)"
      ]
    },
    {
      "cell_type": "code",
      "metadata": {
        "id": "GvJoAvULYwKF"
      },
      "source": [
        "min_max_scaler = preprocessing.MinMaxScaler()\n",
        "Processed_set_3 = min_max_scaler.fit_transform(set_3[:,0:2])\n",
        "plt.scatter(Processed_set_3[:, 0], Processed_set_3[:, 1], c=set_3[:, 2], s=50, cmap='plasma')"
      ],
      "execution_count": null,
      "outputs": []
    },
    {
      "cell_type": "markdown",
      "metadata": {
        "id": "fSfJne65Y7L9"
      },
      "source": [
        "          Split Processed_set_3 to Test_data and Train_data and for that we randomly choose 10% of data as Test_data"
      ]
    },
    {
      "cell_type": "code",
      "metadata": {
        "id": "rSruhS-IZAvT"
      },
      "source": [
        "X_train, X_test, y_train, y_test = train_test_split(\n",
        "...     Processed_set_3, set_3[:, 2], test_size=0.1, random_state=42)"
      ],
      "execution_count": null,
      "outputs": []
    },
    {
      "cell_type": "markdown",
      "metadata": {
        "id": "gs2yElUdZRJ-"
      },
      "source": [
        "          classification of data by MLP (Loss function: Cross entropy) "
      ]
    },
    {
      "cell_type": "code",
      "metadata": {
        "id": "jO0qS9jPZVpe"
      },
      "source": [
        "# create model\n",
        "model = keras.models.Sequential()\n",
        "model.add(keras.Input(shape=(2,)))\n",
        "model.add(keras.layers.Dense(14, activation='relu'))\n",
        "model.add(keras.layers.Dense(14, activation='relu'))\n",
        "model.add(keras.layers.Dense(3, activation='softmax'))\n",
        "# Compile model\n",
        "model.compile(loss='sparse_categorical_crossentropy', optimizer=keras.optimizers.Adam(learning_rate=0.007), metrics=['accuracy'])\n",
        "model.summary()"
      ],
      "execution_count": null,
      "outputs": []
    },
    {
      "cell_type": "code",
      "metadata": {
        "id": "rEde32MWaovw"
      },
      "source": [
        "# Training model\n",
        "history = model.fit(X_train, y_train, batch_size=10, epochs= 250, validation_split= 0.18)"
      ],
      "execution_count": null,
      "outputs": []
    },
    {
      "cell_type": "code",
      "metadata": {
        "id": "GIzAMkDYapaN"
      },
      "source": [
        "# plot model accuracy and loss \n",
        "  # accuracy\n",
        "plt.plot(history.history['accuracy'])\n",
        "plt.plot(history.history['val_accuracy'])\n",
        "plt.title('model accuracy (Number of neurons = 8)')\n",
        "plt.ylabel('accuracy')\n",
        "plt.xlabel('epoch')\n",
        "plt.legend(['train', 'val'], loc='upper left')\n",
        "plt.show()\n",
        "  # loss\n",
        "plt.plot(history.history['loss'])\n",
        "plt.plot(history.history['val_loss'])\n",
        "plt.title('model loss (Number of neurons = 8)')\n",
        "plt.ylabel('loss')\n",
        "plt.xlabel('epoch')\n",
        "plt.legend(['train', 'val'], loc='upper left')\n",
        "plt.show()"
      ],
      "execution_count": null,
      "outputs": []
    },
    {
      "cell_type": "code",
      "metadata": {
        "id": "bYetln1gaviD"
      },
      "source": [
        "test_loss, test_acc = model.evaluate( X_test, y_test, verbose = 1)"
      ],
      "execution_count": null,
      "outputs": []
    },
    {
      "cell_type": "code",
      "metadata": {
        "id": "OzbcbILpaxv2"
      },
      "source": [
        "# Predicting labels\n",
        "predicted_values = model.predict(X_test)\n"
      ],
      "execution_count": null,
      "outputs": []
    },
    {
      "cell_type": "markdown",
      "metadata": {
        "id": "eNjx_Pbhm-8X"
      },
      "source": [
        "## Part 3"
      ]
    },
    {
      "cell_type": "markdown",
      "metadata": {
        "id": "1B7139MWnDsy"
      },
      "source": [
        "        loading data set_4.csv (as 4th column of it has nan values we impute it using KNNImputer)"
      ]
    },
    {
      "cell_type": "code",
      "metadata": {
        "id": "DovDt_bKnJNY"
      },
      "source": [
        "set_4 = pd.read_csv(\"set_4.csv\")\n",
        "set_4 = np.array(set_4)\n",
        "from sklearn.impute import KNNImputer\n",
        "imputer = KNNImputer(n_neighbors=2)\n",
        "set_4 = imputer.fit_transform(set_4)"
      ],
      "execution_count": 3,
      "outputs": []
    },
    {
      "cell_type": "markdown",
      "metadata": {
        "id": "vWQX940BwqV8"
      },
      "source": [
        "              Preprocessing data (scale data matrix to the [0, 1] range)"
      ]
    },
    {
      "cell_type": "code",
      "metadata": {
        "id": "CdJ8bPkYwvBt"
      },
      "source": [
        "min_max_scaler = preprocessing.MinMaxScaler()\n",
        "Processed_set_4 = min_max_scaler.fit_transform(set_4)"
      ],
      "execution_count": 4,
      "outputs": []
    },
    {
      "cell_type": "markdown",
      "metadata": {
        "id": "o1tNi-tRbfEJ"
      },
      "source": [
        "              Plot figure for each function values Z_1 and Z_2"
      ]
    },
    {
      "cell_type": "code",
      "metadata": {
        "id": "L5YoGWP3w52L"
      },
      "source": [
        "fig = plt.figure()\n",
        "ax = fig.add_subplot(111, projection='3d')\n",
        "ax.scatter(Processed_set_4[:, 0], Processed_set_4[:, 1], Processed_set_4[:, 2], c='r', marker='o')\n",
        "ax.set_xlabel('X Label')\n",
        "ax.set_ylabel('Y Label')\n",
        "ax.set_zlabel('Z_1 Label')\n",
        "fig.suptitle('Z_1 function', fontsize=16)\n",
        "plt.show()"
      ],
      "execution_count": null,
      "outputs": []
    },
    {
      "cell_type": "code",
      "metadata": {
        "id": "0BitFqxuaLdM"
      },
      "source": [
        "fig = plt.figure()\n",
        "ax = fig.add_subplot(111, projection='3d')\n",
        "ax.scatter(Processed_set_4[:, 0], Processed_set_4[:, 1], Processed_set_4[:, 3], c='r', marker='o')\n",
        "ax.set_xlabel('X Label')\n",
        "ax.set_ylabel('Y Label')\n",
        "ax.set_zlabel('Z_2 Label')\n",
        "fig.suptitle('Z_2 function', fontsize=16)\n",
        "plt.show()"
      ],
      "execution_count": null,
      "outputs": []
    },
    {
      "cell_type": "markdown",
      "metadata": {
        "id": "tkZcyMJ2djwX"
      },
      "source": [
        "                1-3- Split Processed_set_1 to Test_data and Train_data and for that we randomly choose 10% of data as Test_data"
      ]
    },
    {
      "cell_type": "code",
      "metadata": {
        "id": "pEOqOsL2di7C"
      },
      "source": [
        "X_train, X_test, y_train, y_test = train_test_split(\n",
        "...     Processed_set_4[:,0:2], Processed_set_4[:,2:4], test_size=0.1, random_state=42)"
      ],
      "execution_count": 6,
      "outputs": []
    },
    {
      "cell_type": "markdown",
      "metadata": {
        "id": "f4PeLcCXbn1V"
      },
      "source": [
        "    ******  Creating model **********"
      ]
    },
    {
      "cell_type": "code",
      "metadata": {
        "colab": {
          "base_uri": "https://localhost:8080/"
        },
        "id": "0q4Up3W4bwAe",
        "outputId": "413f03f6-5742-42f0-a455-a7eed3d9d926"
      },
      "source": [
        "# create model\n",
        "model = keras.models.Sequential()\n",
        "model.add(keras.Input(shape=(2,)))\n",
        "model.add(keras.layers.Dense(14, activation='relu'))\n",
        "model.add(keras.layers.Dense(14, activation='relu'))\n",
        "model.add(keras.layers.Dense(2))\n",
        "# Compile model\n",
        "model.compile(loss='mean_squared_error', optimizer='adam')\n",
        "model.summary()"
      ],
      "execution_count": 22,
      "outputs": [
        {
          "output_type": "stream",
          "text": [
            "Model: \"sequential_5\"\n",
            "_________________________________________________________________\n",
            "Layer (type)                 Output Shape              Param #   \n",
            "=================================================================\n",
            "dense_14 (Dense)             (None, 14)                42        \n",
            "_________________________________________________________________\n",
            "dense_15 (Dense)             (None, 14)                210       \n",
            "_________________________________________________________________\n",
            "dense_16 (Dense)             (None, 2)                 30        \n",
            "=================================================================\n",
            "Total params: 282\n",
            "Trainable params: 282\n",
            "Non-trainable params: 0\n",
            "_________________________________________________________________\n"
          ],
          "name": "stdout"
        }
      ]
    },
    {
      "cell_type": "code",
      "metadata": {
        "colab": {
          "base_uri": "https://localhost:8080/"
        },
        "id": "BDN8z-6-IBg6",
        "outputId": "e834ccbb-27f2-4871-a05a-febc8af9a661"
      },
      "source": [
        "# Training model\n",
        "history = model.fit(X_train, y_train, batch_size=10, epochs= 150, validation_split= 0.18)"
      ],
      "execution_count": 23,
      "outputs": [
        {
          "output_type": "stream",
          "text": [
            "Epoch 1/150\n",
            "45/45 [==============================] - 0s 4ms/step - loss: 0.6998 - val_loss: 0.4520\n",
            "Epoch 2/150\n",
            "45/45 [==============================] - 0s 2ms/step - loss: 0.3747 - val_loss: 0.2587\n",
            "Epoch 3/150\n",
            "45/45 [==============================] - 0s 2ms/step - loss: 0.2069 - val_loss: 0.1371\n",
            "Epoch 4/150\n",
            "45/45 [==============================] - 0s 2ms/step - loss: 0.1046 - val_loss: 0.0730\n",
            "Epoch 5/150\n",
            "45/45 [==============================] - 0s 2ms/step - loss: 0.0665 - val_loss: 0.0563\n",
            "Epoch 6/150\n",
            "45/45 [==============================] - 0s 2ms/step - loss: 0.0592 - val_loss: 0.0526\n",
            "Epoch 7/150\n",
            "45/45 [==============================] - 0s 2ms/step - loss: 0.0571 - val_loss: 0.0504\n",
            "Epoch 8/150\n",
            "45/45 [==============================] - 0s 2ms/step - loss: 0.0554 - val_loss: 0.0488\n",
            "Epoch 9/150\n",
            "45/45 [==============================] - 0s 2ms/step - loss: 0.0531 - val_loss: 0.0477\n",
            "Epoch 10/150\n",
            "45/45 [==============================] - 0s 2ms/step - loss: 0.0513 - val_loss: 0.0467\n",
            "Epoch 11/150\n",
            "45/45 [==============================] - 0s 2ms/step - loss: 0.0494 - val_loss: 0.0450\n",
            "Epoch 12/150\n",
            "45/45 [==============================] - 0s 2ms/step - loss: 0.0479 - val_loss: 0.0436\n",
            "Epoch 13/150\n",
            "45/45 [==============================] - 0s 2ms/step - loss: 0.0453 - val_loss: 0.0410\n",
            "Epoch 14/150\n",
            "45/45 [==============================] - 0s 2ms/step - loss: 0.0454 - val_loss: 0.0399\n",
            "Epoch 15/150\n",
            "45/45 [==============================] - 0s 2ms/step - loss: 0.0420 - val_loss: 0.0400\n",
            "Epoch 16/150\n",
            "45/45 [==============================] - 0s 2ms/step - loss: 0.0401 - val_loss: 0.0369\n",
            "Epoch 17/150\n",
            "45/45 [==============================] - 0s 2ms/step - loss: 0.0386 - val_loss: 0.0350\n",
            "Epoch 18/150\n",
            "45/45 [==============================] - 0s 2ms/step - loss: 0.0369 - val_loss: 0.0337\n",
            "Epoch 19/150\n",
            "45/45 [==============================] - 0s 2ms/step - loss: 0.0345 - val_loss: 0.0318\n",
            "Epoch 20/150\n",
            "45/45 [==============================] - 0s 2ms/step - loss: 0.0325 - val_loss: 0.0310\n",
            "Epoch 21/150\n",
            "45/45 [==============================] - 0s 2ms/step - loss: 0.0305 - val_loss: 0.0293\n",
            "Epoch 22/150\n",
            "45/45 [==============================] - 0s 2ms/step - loss: 0.0284 - val_loss: 0.0283\n",
            "Epoch 23/150\n",
            "45/45 [==============================] - 0s 2ms/step - loss: 0.0267 - val_loss: 0.0263\n",
            "Epoch 24/150\n",
            "45/45 [==============================] - 0s 2ms/step - loss: 0.0252 - val_loss: 0.0249\n",
            "Epoch 25/150\n",
            "45/45 [==============================] - 0s 2ms/step - loss: 0.0238 - val_loss: 0.0238\n",
            "Epoch 26/150\n",
            "45/45 [==============================] - 0s 2ms/step - loss: 0.0218 - val_loss: 0.0245\n",
            "Epoch 27/150\n",
            "45/45 [==============================] - 0s 2ms/step - loss: 0.0207 - val_loss: 0.0226\n",
            "Epoch 28/150\n",
            "45/45 [==============================] - 0s 2ms/step - loss: 0.0197 - val_loss: 0.0209\n",
            "Epoch 29/150\n",
            "45/45 [==============================] - 0s 2ms/step - loss: 0.0186 - val_loss: 0.0199\n",
            "Epoch 30/150\n",
            "45/45 [==============================] - 0s 2ms/step - loss: 0.0172 - val_loss: 0.0192\n",
            "Epoch 31/150\n",
            "45/45 [==============================] - 0s 2ms/step - loss: 0.0166 - val_loss: 0.0189\n",
            "Epoch 32/150\n",
            "45/45 [==============================] - 0s 2ms/step - loss: 0.0156 - val_loss: 0.0185\n",
            "Epoch 33/150\n",
            "45/45 [==============================] - 0s 2ms/step - loss: 0.0150 - val_loss: 0.0177\n",
            "Epoch 34/150\n",
            "45/45 [==============================] - 0s 2ms/step - loss: 0.0144 - val_loss: 0.0170\n",
            "Epoch 35/150\n",
            "45/45 [==============================] - 0s 2ms/step - loss: 0.0139 - val_loss: 0.0167\n",
            "Epoch 36/150\n",
            "45/45 [==============================] - 0s 2ms/step - loss: 0.0141 - val_loss: 0.0161\n",
            "Epoch 37/150\n",
            "45/45 [==============================] - 0s 2ms/step - loss: 0.0139 - val_loss: 0.0159\n",
            "Epoch 38/150\n",
            "45/45 [==============================] - 0s 2ms/step - loss: 0.0125 - val_loss: 0.0167\n",
            "Epoch 39/150\n",
            "45/45 [==============================] - 0s 2ms/step - loss: 0.0124 - val_loss: 0.0157\n",
            "Epoch 40/150\n",
            "45/45 [==============================] - 0s 2ms/step - loss: 0.0120 - val_loss: 0.0157\n",
            "Epoch 41/150\n",
            "45/45 [==============================] - 0s 2ms/step - loss: 0.0117 - val_loss: 0.0152\n",
            "Epoch 42/150\n",
            "45/45 [==============================] - 0s 2ms/step - loss: 0.0118 - val_loss: 0.0149\n",
            "Epoch 43/150\n",
            "45/45 [==============================] - 0s 2ms/step - loss: 0.0112 - val_loss: 0.0148\n",
            "Epoch 44/150\n",
            "45/45 [==============================] - 0s 2ms/step - loss: 0.0110 - val_loss: 0.0148\n",
            "Epoch 45/150\n",
            "45/45 [==============================] - 0s 2ms/step - loss: 0.0108 - val_loss: 0.0149\n",
            "Epoch 46/150\n",
            "45/45 [==============================] - 0s 2ms/step - loss: 0.0106 - val_loss: 0.0141\n",
            "Epoch 47/150\n",
            "45/45 [==============================] - 0s 2ms/step - loss: 0.0110 - val_loss: 0.0145\n",
            "Epoch 48/150\n",
            "45/45 [==============================] - 0s 2ms/step - loss: 0.0105 - val_loss: 0.0139\n",
            "Epoch 49/150\n",
            "45/45 [==============================] - 0s 2ms/step - loss: 0.0097 - val_loss: 0.0131\n",
            "Epoch 50/150\n",
            "45/45 [==============================] - 0s 2ms/step - loss: 0.0094 - val_loss: 0.0126\n",
            "Epoch 51/150\n",
            "45/45 [==============================] - 0s 2ms/step - loss: 0.0092 - val_loss: 0.0126\n",
            "Epoch 52/150\n",
            "45/45 [==============================] - 0s 2ms/step - loss: 0.0091 - val_loss: 0.0116\n",
            "Epoch 53/150\n",
            "45/45 [==============================] - 0s 2ms/step - loss: 0.0084 - val_loss: 0.0121\n",
            "Epoch 54/150\n",
            "45/45 [==============================] - 0s 2ms/step - loss: 0.0081 - val_loss: 0.0110\n",
            "Epoch 55/150\n",
            "45/45 [==============================] - 0s 3ms/step - loss: 0.0081 - val_loss: 0.0115\n",
            "Epoch 56/150\n",
            "45/45 [==============================] - 0s 2ms/step - loss: 0.0075 - val_loss: 0.0107\n",
            "Epoch 57/150\n",
            "45/45 [==============================] - 0s 2ms/step - loss: 0.0076 - val_loss: 0.0108\n",
            "Epoch 58/150\n",
            "45/45 [==============================] - 0s 2ms/step - loss: 0.0075 - val_loss: 0.0100\n",
            "Epoch 59/150\n",
            "45/45 [==============================] - 0s 2ms/step - loss: 0.0074 - val_loss: 0.0100\n",
            "Epoch 60/150\n",
            "45/45 [==============================] - 0s 2ms/step - loss: 0.0071 - val_loss: 0.0102\n",
            "Epoch 61/150\n",
            "45/45 [==============================] - 0s 2ms/step - loss: 0.0070 - val_loss: 0.0097\n",
            "Epoch 62/150\n",
            "45/45 [==============================] - 0s 2ms/step - loss: 0.0070 - val_loss: 0.0099\n",
            "Epoch 63/150\n",
            "45/45 [==============================] - 0s 2ms/step - loss: 0.0068 - val_loss: 0.0103\n",
            "Epoch 64/150\n",
            "45/45 [==============================] - 0s 2ms/step - loss: 0.0102 - val_loss: 0.0097\n",
            "Epoch 65/150\n",
            "45/45 [==============================] - 0s 2ms/step - loss: 0.0069 - val_loss: 0.0094\n",
            "Epoch 66/150\n",
            "45/45 [==============================] - 0s 2ms/step - loss: 0.0067 - val_loss: 0.0100\n",
            "Epoch 67/150\n",
            "45/45 [==============================] - 0s 2ms/step - loss: 0.0066 - val_loss: 0.0094\n",
            "Epoch 68/150\n",
            "45/45 [==============================] - 0s 2ms/step - loss: 0.0066 - val_loss: 0.0091\n",
            "Epoch 69/150\n",
            "45/45 [==============================] - 0s 2ms/step - loss: 0.0066 - val_loss: 0.0091\n",
            "Epoch 70/150\n",
            "45/45 [==============================] - 0s 2ms/step - loss: 0.0066 - val_loss: 0.0093\n",
            "Epoch 71/150\n",
            "45/45 [==============================] - 0s 2ms/step - loss: 0.0067 - val_loss: 0.0092\n",
            "Epoch 72/150\n",
            "45/45 [==============================] - 0s 2ms/step - loss: 0.0064 - val_loss: 0.0091\n",
            "Epoch 73/150\n",
            "45/45 [==============================] - 0s 2ms/step - loss: 0.0066 - val_loss: 0.0088\n",
            "Epoch 74/150\n",
            "45/45 [==============================] - 0s 2ms/step - loss: 0.0063 - val_loss: 0.0092\n",
            "Epoch 75/150\n",
            "45/45 [==============================] - 0s 2ms/step - loss: 0.0066 - val_loss: 0.0093\n",
            "Epoch 76/150\n",
            "45/45 [==============================] - 0s 2ms/step - loss: 0.0066 - val_loss: 0.0087\n",
            "Epoch 77/150\n",
            "45/45 [==============================] - 0s 2ms/step - loss: 0.0063 - val_loss: 0.0091\n",
            "Epoch 78/150\n",
            "45/45 [==============================] - 0s 2ms/step - loss: 0.0062 - val_loss: 0.0089\n",
            "Epoch 79/150\n",
            "45/45 [==============================] - 0s 2ms/step - loss: 0.0064 - val_loss: 0.0090\n",
            "Epoch 80/150\n",
            "45/45 [==============================] - 0s 2ms/step - loss: 0.0062 - val_loss: 0.0086\n",
            "Epoch 81/150\n",
            "45/45 [==============================] - 0s 2ms/step - loss: 0.0061 - val_loss: 0.0085\n",
            "Epoch 82/150\n",
            "45/45 [==============================] - 0s 2ms/step - loss: 0.0061 - val_loss: 0.0083\n",
            "Epoch 83/150\n",
            "45/45 [==============================] - 0s 3ms/step - loss: 0.0059 - val_loss: 0.0084\n",
            "Epoch 84/150\n",
            "45/45 [==============================] - 0s 2ms/step - loss: 0.0059 - val_loss: 0.0083\n",
            "Epoch 85/150\n",
            "45/45 [==============================] - 0s 2ms/step - loss: 0.0059 - val_loss: 0.0086\n",
            "Epoch 86/150\n",
            "45/45 [==============================] - 0s 2ms/step - loss: 0.0063 - val_loss: 0.0084\n",
            "Epoch 87/150\n",
            "45/45 [==============================] - 0s 2ms/step - loss: 0.0058 - val_loss: 0.0083\n",
            "Epoch 88/150\n",
            "45/45 [==============================] - 0s 2ms/step - loss: 0.0059 - val_loss: 0.0082\n",
            "Epoch 89/150\n",
            "45/45 [==============================] - 0s 2ms/step - loss: 0.0060 - val_loss: 0.0081\n",
            "Epoch 90/150\n",
            "45/45 [==============================] - 0s 2ms/step - loss: 0.0060 - val_loss: 0.0079\n",
            "Epoch 91/150\n",
            "45/45 [==============================] - 0s 2ms/step - loss: 0.0061 - val_loss: 0.0081\n",
            "Epoch 92/150\n",
            "45/45 [==============================] - 0s 2ms/step - loss: 0.0058 - val_loss: 0.0081\n",
            "Epoch 93/150\n",
            "45/45 [==============================] - 0s 2ms/step - loss: 0.0059 - val_loss: 0.0080\n",
            "Epoch 94/150\n",
            "45/45 [==============================] - 0s 2ms/step - loss: 0.0062 - val_loss: 0.0089\n",
            "Epoch 95/150\n",
            "45/45 [==============================] - 0s 2ms/step - loss: 0.0058 - val_loss: 0.0094\n",
            "Epoch 96/150\n",
            "45/45 [==============================] - 0s 2ms/step - loss: 0.0058 - val_loss: 0.0080\n",
            "Epoch 97/150\n",
            "45/45 [==============================] - 0s 2ms/step - loss: 0.0060 - val_loss: 0.0080\n",
            "Epoch 98/150\n",
            "45/45 [==============================] - 0s 2ms/step - loss: 0.0061 - val_loss: 0.0079\n",
            "Epoch 99/150\n",
            "45/45 [==============================] - 0s 2ms/step - loss: 0.0058 - val_loss: 0.0080\n",
            "Epoch 100/150\n",
            "45/45 [==============================] - 0s 2ms/step - loss: 0.0060 - val_loss: 0.0078\n",
            "Epoch 101/150\n",
            "45/45 [==============================] - 0s 2ms/step - loss: 0.0057 - val_loss: 0.0080\n",
            "Epoch 102/150\n",
            "45/45 [==============================] - 0s 2ms/step - loss: 0.0060 - val_loss: 0.0089\n",
            "Epoch 103/150\n",
            "45/45 [==============================] - 0s 2ms/step - loss: 0.0060 - val_loss: 0.0078\n",
            "Epoch 104/150\n",
            "45/45 [==============================] - 0s 2ms/step - loss: 0.0057 - val_loss: 0.0078\n",
            "Epoch 105/150\n",
            "45/45 [==============================] - 0s 2ms/step - loss: 0.0056 - val_loss: 0.0079\n",
            "Epoch 106/150\n",
            "45/45 [==============================] - 0s 2ms/step - loss: 0.0060 - val_loss: 0.0077\n",
            "Epoch 107/150\n",
            "45/45 [==============================] - 0s 2ms/step - loss: 0.0056 - val_loss: 0.0080\n",
            "Epoch 108/150\n",
            "45/45 [==============================] - 0s 2ms/step - loss: 0.0056 - val_loss: 0.0076\n",
            "Epoch 109/150\n",
            "45/45 [==============================] - 0s 2ms/step - loss: 0.0057 - val_loss: 0.0078\n",
            "Epoch 110/150\n",
            "45/45 [==============================] - 0s 2ms/step - loss: 0.0056 - val_loss: 0.0078\n",
            "Epoch 111/150\n",
            "45/45 [==============================] - 0s 2ms/step - loss: 0.0056 - val_loss: 0.0075\n",
            "Epoch 112/150\n",
            "45/45 [==============================] - 0s 2ms/step - loss: 0.0056 - val_loss: 0.0080\n",
            "Epoch 113/150\n",
            "45/45 [==============================] - 0s 2ms/step - loss: 0.0056 - val_loss: 0.0075\n",
            "Epoch 114/150\n",
            "45/45 [==============================] - 0s 2ms/step - loss: 0.0058 - val_loss: 0.0076\n",
            "Epoch 115/150\n",
            "45/45 [==============================] - 0s 2ms/step - loss: 0.0056 - val_loss: 0.0076\n",
            "Epoch 116/150\n",
            "45/45 [==============================] - 0s 2ms/step - loss: 0.0058 - val_loss: 0.0077\n",
            "Epoch 117/150\n",
            "45/45 [==============================] - 0s 2ms/step - loss: 0.0056 - val_loss: 0.0075\n",
            "Epoch 118/150\n",
            "45/45 [==============================] - 0s 2ms/step - loss: 0.0054 - val_loss: 0.0075\n",
            "Epoch 119/150\n",
            "45/45 [==============================] - 0s 2ms/step - loss: 0.0055 - val_loss: 0.0077\n",
            "Epoch 120/150\n",
            "45/45 [==============================] - 0s 2ms/step - loss: 0.0054 - val_loss: 0.0072\n",
            "Epoch 121/150\n",
            "45/45 [==============================] - 0s 2ms/step - loss: 0.0056 - val_loss: 0.0074\n",
            "Epoch 122/150\n",
            "45/45 [==============================] - 0s 2ms/step - loss: 0.0058 - val_loss: 0.0073\n",
            "Epoch 123/150\n",
            "45/45 [==============================] - 0s 2ms/step - loss: 0.0056 - val_loss: 0.0080\n",
            "Epoch 124/150\n",
            "45/45 [==============================] - 0s 2ms/step - loss: 0.0055 - val_loss: 0.0075\n",
            "Epoch 125/150\n",
            "45/45 [==============================] - 0s 2ms/step - loss: 0.0059 - val_loss: 0.0077\n",
            "Epoch 126/150\n",
            "45/45 [==============================] - 0s 2ms/step - loss: 0.0054 - val_loss: 0.0078\n",
            "Epoch 127/150\n",
            "45/45 [==============================] - 0s 2ms/step - loss: 0.0057 - val_loss: 0.0074\n",
            "Epoch 128/150\n",
            "45/45 [==============================] - 0s 2ms/step - loss: 0.0053 - val_loss: 0.0075\n",
            "Epoch 129/150\n",
            "45/45 [==============================] - 0s 3ms/step - loss: 0.0055 - val_loss: 0.0075\n",
            "Epoch 130/150\n",
            "45/45 [==============================] - 0s 3ms/step - loss: 0.0055 - val_loss: 0.0077\n",
            "Epoch 131/150\n",
            "45/45 [==============================] - 0s 2ms/step - loss: 0.0056 - val_loss: 0.0076\n",
            "Epoch 132/150\n",
            "45/45 [==============================] - 0s 2ms/step - loss: 0.0053 - val_loss: 0.0078\n",
            "Epoch 133/150\n",
            "45/45 [==============================] - 0s 2ms/step - loss: 0.0057 - val_loss: 0.0073\n",
            "Epoch 134/150\n",
            "45/45 [==============================] - 0s 2ms/step - loss: 0.0054 - val_loss: 0.0082\n",
            "Epoch 135/150\n",
            "45/45 [==============================] - 0s 2ms/step - loss: 0.0055 - val_loss: 0.0073\n",
            "Epoch 136/150\n",
            "45/45 [==============================] - 0s 2ms/step - loss: 0.0053 - val_loss: 0.0071\n",
            "Epoch 137/150\n",
            "45/45 [==============================] - 0s 2ms/step - loss: 0.0053 - val_loss: 0.0075\n",
            "Epoch 138/150\n",
            "45/45 [==============================] - 0s 2ms/step - loss: 0.0055 - val_loss: 0.0071\n",
            "Epoch 139/150\n",
            "45/45 [==============================] - 0s 2ms/step - loss: 0.0053 - val_loss: 0.0073\n",
            "Epoch 140/150\n",
            "45/45 [==============================] - 0s 2ms/step - loss: 0.0053 - val_loss: 0.0070\n",
            "Epoch 141/150\n",
            "45/45 [==============================] - 0s 2ms/step - loss: 0.0054 - val_loss: 0.0079\n",
            "Epoch 142/150\n",
            "45/45 [==============================] - 0s 2ms/step - loss: 0.0053 - val_loss: 0.0072\n",
            "Epoch 143/150\n",
            "45/45 [==============================] - 0s 2ms/step - loss: 0.0053 - val_loss: 0.0072\n",
            "Epoch 144/150\n",
            "45/45 [==============================] - 0s 2ms/step - loss: 0.0053 - val_loss: 0.0072\n",
            "Epoch 145/150\n",
            "45/45 [==============================] - 0s 2ms/step - loss: 0.0052 - val_loss: 0.0074\n",
            "Epoch 146/150\n",
            "45/45 [==============================] - 0s 2ms/step - loss: 0.0053 - val_loss: 0.0077\n",
            "Epoch 147/150\n",
            "45/45 [==============================] - 0s 2ms/step - loss: 0.0054 - val_loss: 0.0071\n",
            "Epoch 148/150\n",
            "45/45 [==============================] - 0s 2ms/step - loss: 0.0054 - val_loss: 0.0072\n",
            "Epoch 149/150\n",
            "45/45 [==============================] - 0s 2ms/step - loss: 0.0052 - val_loss: 0.0069\n",
            "Epoch 150/150\n",
            "45/45 [==============================] - 0s 2ms/step - loss: 0.0051 - val_loss: 0.0072\n"
          ],
          "name": "stdout"
        }
      ]
    },
    {
      "cell_type": "code",
      "metadata": {
        "colab": {
          "base_uri": "https://localhost:8080/",
          "height": 295
        },
        "id": "Y9tHkDAEXv9T",
        "outputId": "8d7bdce2-a500-4ca6-c89e-c667e7cd1338"
      },
      "source": [
        "# plot model loss \n",
        "\n",
        "  # loss\n",
        "plt.plot(history.history['loss'])\n",
        "plt.plot(history.history['val_loss'])\n",
        "plt.title('model loss')\n",
        "plt.ylabel('loss')\n",
        "plt.xlabel('epoch')\n",
        "plt.legend(['train', 'val'], loc='upper left')\n",
        "plt.show()"
      ],
      "execution_count": 24,
      "outputs": [
        {
          "output_type": "display_data",
          "data": {
            "image/png": "[encoded data removed]",
            "text/plain": [
              "<Figure size 432x288 with 1 Axes>"
            ]
          },
          "metadata": {
            "tags": [],
            "needs_background": "light"
          }
        }
      ]
    },
    {
      "cell_type": "code",
      "metadata": {
        "colab": {
          "base_uri": "https://localhost:8080/"
        },
        "id": "j4aOT9yqX-ze",
        "outputId": "fb14e1e2-a020-41b2-baaf-43aaa8323ea9"
      },
      "source": [
        "# Predicting labels\n",
        "predicted_values = model.predict(X_test)\n",
        "MSE_error = mean_squared_error(y_test,predicted_values) \n",
        "print(MSE_error)\n"
      ],
      "execution_count": 25,
      "outputs": [
        {
          "output_type": "stream",
          "text": [
            "0.003763308287664689\n"
          ],
          "name": "stdout"
        }
      ]
    }
  ]
}